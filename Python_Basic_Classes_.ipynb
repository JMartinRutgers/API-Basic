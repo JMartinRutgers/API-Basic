{
  "nbformat": 4,
  "nbformat_minor": 0,
  "metadata": {
    "colab": {
      "name": "Python-Basic-Classes .ipynb",
      "provenance": [],
      "collapsed_sections": [],
      "authorship_tag": "ABX9TyPkNpKOfXnQnL4GSF/P6DNq",
      "include_colab_link": true
    },
    "kernelspec": {
      "name": "python3",
      "display_name": "Python 3"
    },
    "language_info": {
      "name": "python"
    }
  },
  "cells": [
    {
      "cell_type": "markdown",
      "metadata": {
        "id": "view-in-github",
        "colab_type": "text"
      },
      "source": [
        "<a href=\"https://colab.research.google.com/github/JMartinRutgers/API-Basic/blob/main/Python_Basic_Classes_.ipynb\" target=\"_parent\"><img src=\"https://colab.research.google.com/assets/colab-badge.svg\" alt=\"Open In Colab\"/></a>"
      ]
    },
    {
      "cell_type": "code",
      "metadata": {
        "id": "-DAh4AaYXY19"
      },
      "source": [
        "#creating classes \n",
        "\n",
        "\n",
        "class Book:\n",
        "    # TODO: Properties defined at the class level are shared by all instances\n",
        "\n",
        "    # TODO: double-underscore properties are hidden from other classes\n",
        "\n",
        "    # TODO: create a class method\n",
        "\n",
        "    # TODO: create a static method\n",
        "\n",
        "    # instance methods receive a specific object instance as an argument\n",
        "    # and operate on data specific to that object instance\n",
        "    def setTitle(self, newtitle):\n",
        "        self.title = newtitle\n",
        "\n",
        "    def __init__(self, title):\n",
        "        self.title = title\n",
        "\n",
        "\n",
        "# TODO: access the class attribute\n",
        "\n",
        "\n",
        "# TODO: Create some book instances\n",
        "b1 = Book(\"Title 1\")\n",
        "b2 = Book(\"Title 2\")\n",
        "\n",
        "# TODO: Use the static method to access a singleton object\n"
      ],
      "execution_count": 1,
      "outputs": []
    },
    {
      "cell_type": "code",
      "metadata": {
        "colab": {
          "base_uri": "https://localhost:8080/"
        },
        "id": "w-da8ZfrCpX9",
        "outputId": "9e035c4b-ed25-4b4f-f821-b88cc07ef4d7"
      },
      "source": [
        "#Creating basic classes with python methodos \n",
        "# here is a basic look \n",
        "# Using class-level and static methods\n",
        "\n",
        "\n",
        "class Book:\n",
        "    # TODO: Properties defined at the class level are shared by all instances\n",
        "    BOOK_TYPES = (\"HARDCOVER\", \"PAPERBACK\", \"EBOOK\")\n",
        "    # TODO: double-underscore properties are hidden from other classes\n",
        "    __booklist = None\n",
        "\n",
        "    # static methods do not receive class or instance arguments\n",
        "    # and usually operate on data that is not instance- or\n",
        "    # class-specific\n",
        "    @staticmethod\n",
        "    def getbooklist():\n",
        "        if Book.__booklist == None:\n",
        "            Book.__booklist = []\n",
        "        return Book.__booklist\n",
        "\n",
        "    # class methods receive a class as their argument and can only\n",
        "    # operate on class-level data\n",
        "    @classmethod\n",
        "    def getbooktypes(cls):\n",
        "        return cls.BOOK_TYPES\n",
        "\n",
        "    # instance methods receive a specific object instance as an argument\n",
        "    # and operate on data specific to that object instance\n",
        "    def setTitle(self, newtitle):\n",
        "        self.title = newtitle\n",
        "\n",
        "    def __init__(self, title, booktype):\n",
        "        self.title = title\n",
        "        if (not booktype in Book.BOOK_TYPES):\n",
        "            raise ValueError(f\"{booktype} is not a valid book type\")\n",
        "        else:\n",
        "            self.booktype = booktype\n",
        "\n",
        "\n",
        "# TODO: access the class attribute\n",
        "print(\"Book types: \", Book.getbooktypes())\n",
        "\n",
        "# TODO: Create some book instances\n",
        "b1 = Book(\"Title 1\", \"HARDCOVER\")\n",
        "b2 = Book(\"Title 2\", \"PAPERBACK\")\n",
        "\n",
        "# TODO: Use the static method to access a singleton object\n",
        "thebooks = Book.getbooklist()\n",
        "thebooks.append(b1)\n",
        "thebooks.append(b2)\n",
        "print(thebooks)\n"
      ],
      "execution_count": 2,
      "outputs": [
        {
          "output_type": "stream",
          "name": "stdout",
          "text": [
            "Book types:  ('HARDCOVER', 'PAPERBACK', 'EBOOK')\n",
            "[<__main__.Book object at 0x7ffb90dc3a10>, <__main__.Book object at 0x7ffb90dc3c90>]\n"
          ]
        }
      ]
    },
    {
      "cell_type": "code",
      "metadata": {
        "id": "2j0oAED7_wCO"
      },
      "source": [
        "def ask_ok(prompt, retries=4, reminder='Repeat!'):\n",
        "    while True:\n",
        "        ok = input(prompt)\n",
        "        if ok in ('y', 'ye', 'yes'):\n",
        "            return True\n",
        "        if ok in ('n', 'no', 'nop', 'nope'):\n",
        "            return False\n",
        "        retries = retries -1\n",
        "        if retries < 0:\n",
        "            raise ValueError('invalid user response')\n",
        "        print(reminder)\n",
        "if __name__==\"__ask_ok__\":ask_ok()"
      ],
      "execution_count": 3,
      "outputs": []
    },
    {
      "cell_type": "code",
      "metadata": {
        "id": "8BIuSpta5eKD"
      },
      "source": [
        "def coroutine_decorator(func):\n",
        "    def wrap(*args, **kwargs):\n",
        "        cr = func(*args, **kwargs)\n",
        "        cr.next()\n",
        "        return cr\n",
        "    return wrap\n",
        "\n",
        "\n",
        "@coroutine_decorator\n",
        "def coroutine_example():\n",
        "    while True:\n",
        "        x = yield\n",
        "        #do something with x\n",
        "        print(x)\n"
      ],
      "execution_count": 4,
      "outputs": []
    }
  ]
}