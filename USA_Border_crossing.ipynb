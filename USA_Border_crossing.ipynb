{
  "nbformat": 4,
  "nbformat_minor": 0,
  "metadata": {
    "colab": {
      "provenance": [],
      "collapsed_sections": [],
      "authorship_tag": "ABX9TyO09L++fC+Enn2etXJGorwo",
      "include_colab_link": true
    },
    "kernelspec": {
      "name": "python3",
      "display_name": "Python 3"
    },
    "language_info": {
      "name": "python"
    }
  },
  "cells": [
    {
      "cell_type": "markdown",
      "metadata": {
        "id": "view-in-github",
        "colab_type": "text"
      },
      "source": [
        "<a href=\"https://colab.research.google.com/github/JMartinRutgers/API-Basic/blob/main/USA_Border_crossing.ipynb\" target=\"_parent\"><img src=\"https://colab.research.google.com/assets/colab-badge.svg\" alt=\"Open In Colab\"/></a>"
      ]
    },
    {
      "cell_type": "code",
      "source": [
        "import pandas as pd\n",
        "import io\n",
        "import requests\n",
        "import csv \n",
        "import pandas as pd\n",
        "from scipy.special import ndtr as ndtr\n",
        "import numpy as np\n",
        "import scipy.stats as st\n",
        "from sklearn.preprocessing import scale, normalize\n",
        "import pickle\n",
        "import matplotlib\n",
        "import matplotlib.pyplot as plt\n",
        "from matplotlib import style \n",
        "\n",
        "import seaborn as sns \n",
        "\n",
        "url=\"https://www.cbp.gov/sites/default/files/assets/documents/2022-Sep/sbo-encounters-fy19-fy22-aug_0.csv\"\n",
        "s=requests.get(url).content\n",
        "c=pd.read_csv(io.StringIO(s.decode('utf-8')))"
      ],
      "metadata": {
        "id": "sccNEZNExoHL"
      },
      "execution_count": 2,
      "outputs": []
    },
    {
      "cell_type": "code",
      "source": [
        "data= pd.DataFrame(c)"
      ],
      "metadata": {
        "id": "42Nmq5mixtim"
      },
      "execution_count": 5,
      "outputs": []
    },
    {
      "cell_type": "code",
      "source": [
        "data"
      ],
      "metadata": {
        "colab": {
          "base_uri": "https://localhost:8080/",
          "height": 419
        },
        "id": "JM3XQYi5xu_u",
        "outputId": "209944ee-9657-41e2-f883-26c44f34451e"
      },
      "execution_count": 6,
      "outputs": [
        {
          "output_type": "execute_result",
          "data": {
            "text/plain": [
              "      Fiscal Year Month Grouping Month (abbv)                   Component  \\\n",
              "0            2019           FYTD          AUG  Office of Field Operations   \n",
              "1            2019           FYTD          DEC          U.S. Border Patrol   \n",
              "2            2021      Remaining          SEP  Office of Field Operations   \n",
              "3            2021      Remaining          SEP  Office of Field Operations   \n",
              "4            2019           FYTD          JUN  Office of Field Operations   \n",
              "...           ...            ...          ...                         ...   \n",
              "2213  2022 (FYTD)           FYTD          OCT          U.S. Border Patrol   \n",
              "2214  2022 (FYTD)           FYTD          OCT          U.S. Border Patrol   \n",
              "2215  2022 (FYTD)           FYTD          OCT          U.S. Border Patrol   \n",
              "2216  2022 (FYTD)           FYTD          OCT          U.S. Border Patrol   \n",
              "2217  2022 (FYTD)           FYTD          OCT          U.S. Border Patrol   \n",
              "\n",
              "             Demographic Citizenship Grouping Title of Authority  \\\n",
              "0     Accompanied Minors            Guatemala            Title 8   \n",
              "1                   FMUA             Honduras            Title 8   \n",
              "2          Single Adults                Other            Title 8   \n",
              "3          Single Adults            Guatemala            Title 8   \n",
              "4          Single Adults             Honduras            Title 8   \n",
              "...                  ...                  ...                ...   \n",
              "2213  UC / Single Minors          El Salvador            Title 8   \n",
              "2214  UC / Single Minors            Guatemala            Title 8   \n",
              "2215  UC / Single Minors             Honduras            Title 8   \n",
              "2216  UC / Single Minors               Mexico            Title 8   \n",
              "2217  UC / Single Minors                Other            Title 8   \n",
              "\n",
              "     Encounter Type  Encounter Count  \n",
              "0     Inadmissibles              0.0  \n",
              "1     Apprehensions           9584.0  \n",
              "2     Inadmissibles           1108.0  \n",
              "3     Inadmissibles             14.0  \n",
              "4     Inadmissibles             87.0  \n",
              "...             ...              ...  \n",
              "2213  Apprehensions           1664.0  \n",
              "2214  Apprehensions           5049.0  \n",
              "2215  Apprehensions           3140.0  \n",
              "2216  Apprehensions           2307.0  \n",
              "2217  Apprehensions            456.0  \n",
              "\n",
              "[2218 rows x 9 columns]"
            ],
            "text/html": [
              "\n",
              "  <div id=\"df-878809e3-96e0-4d4a-817a-c35fd3ed9669\">\n",
              "    <div class=\"colab-df-container\">\n",
              "      <div>\n",
              "<style scoped>\n",
              "    .dataframe tbody tr th:only-of-type {\n",
              "        vertical-align: middle;\n",
              "    }\n",
              "\n",
              "    .dataframe tbody tr th {\n",
              "        vertical-align: top;\n",
              "    }\n",
              "\n",
              "    .dataframe thead th {\n",
              "        text-align: right;\n",
              "    }\n",
              "</style>\n",
              "<table border=\"1\" class=\"dataframe\">\n",
              "  <thead>\n",
              "    <tr style=\"text-align: right;\">\n",
              "      <th></th>\n",
              "      <th>Fiscal Year</th>\n",
              "      <th>Month Grouping</th>\n",
              "      <th>Month (abbv)</th>\n",
              "      <th>Component</th>\n",
              "      <th>Demographic</th>\n",
              "      <th>Citizenship Grouping</th>\n",
              "      <th>Title of Authority</th>\n",
              "      <th>Encounter Type</th>\n",
              "      <th>Encounter Count</th>\n",
              "    </tr>\n",
              "  </thead>\n",
              "  <tbody>\n",
              "    <tr>\n",
              "      <th>0</th>\n",
              "      <td>2019</td>\n",
              "      <td>FYTD</td>\n",
              "      <td>AUG</td>\n",
              "      <td>Office of Field Operations</td>\n",
              "      <td>Accompanied Minors</td>\n",
              "      <td>Guatemala</td>\n",
              "      <td>Title 8</td>\n",
              "      <td>Inadmissibles</td>\n",
              "      <td>0.0</td>\n",
              "    </tr>\n",
              "    <tr>\n",
              "      <th>1</th>\n",
              "      <td>2019</td>\n",
              "      <td>FYTD</td>\n",
              "      <td>DEC</td>\n",
              "      <td>U.S. Border Patrol</td>\n",
              "      <td>FMUA</td>\n",
              "      <td>Honduras</td>\n",
              "      <td>Title 8</td>\n",
              "      <td>Apprehensions</td>\n",
              "      <td>9584.0</td>\n",
              "    </tr>\n",
              "    <tr>\n",
              "      <th>2</th>\n",
              "      <td>2021</td>\n",
              "      <td>Remaining</td>\n",
              "      <td>SEP</td>\n",
              "      <td>Office of Field Operations</td>\n",
              "      <td>Single Adults</td>\n",
              "      <td>Other</td>\n",
              "      <td>Title 8</td>\n",
              "      <td>Inadmissibles</td>\n",
              "      <td>1108.0</td>\n",
              "    </tr>\n",
              "    <tr>\n",
              "      <th>3</th>\n",
              "      <td>2021</td>\n",
              "      <td>Remaining</td>\n",
              "      <td>SEP</td>\n",
              "      <td>Office of Field Operations</td>\n",
              "      <td>Single Adults</td>\n",
              "      <td>Guatemala</td>\n",
              "      <td>Title 8</td>\n",
              "      <td>Inadmissibles</td>\n",
              "      <td>14.0</td>\n",
              "    </tr>\n",
              "    <tr>\n",
              "      <th>4</th>\n",
              "      <td>2019</td>\n",
              "      <td>FYTD</td>\n",
              "      <td>JUN</td>\n",
              "      <td>Office of Field Operations</td>\n",
              "      <td>Single Adults</td>\n",
              "      <td>Honduras</td>\n",
              "      <td>Title 8</td>\n",
              "      <td>Inadmissibles</td>\n",
              "      <td>87.0</td>\n",
              "    </tr>\n",
              "    <tr>\n",
              "      <th>...</th>\n",
              "      <td>...</td>\n",
              "      <td>...</td>\n",
              "      <td>...</td>\n",
              "      <td>...</td>\n",
              "      <td>...</td>\n",
              "      <td>...</td>\n",
              "      <td>...</td>\n",
              "      <td>...</td>\n",
              "      <td>...</td>\n",
              "    </tr>\n",
              "    <tr>\n",
              "      <th>2213</th>\n",
              "      <td>2022 (FYTD)</td>\n",
              "      <td>FYTD</td>\n",
              "      <td>OCT</td>\n",
              "      <td>U.S. Border Patrol</td>\n",
              "      <td>UC / Single Minors</td>\n",
              "      <td>El Salvador</td>\n",
              "      <td>Title 8</td>\n",
              "      <td>Apprehensions</td>\n",
              "      <td>1664.0</td>\n",
              "    </tr>\n",
              "    <tr>\n",
              "      <th>2214</th>\n",
              "      <td>2022 (FYTD)</td>\n",
              "      <td>FYTD</td>\n",
              "      <td>OCT</td>\n",
              "      <td>U.S. Border Patrol</td>\n",
              "      <td>UC / Single Minors</td>\n",
              "      <td>Guatemala</td>\n",
              "      <td>Title 8</td>\n",
              "      <td>Apprehensions</td>\n",
              "      <td>5049.0</td>\n",
              "    </tr>\n",
              "    <tr>\n",
              "      <th>2215</th>\n",
              "      <td>2022 (FYTD)</td>\n",
              "      <td>FYTD</td>\n",
              "      <td>OCT</td>\n",
              "      <td>U.S. Border Patrol</td>\n",
              "      <td>UC / Single Minors</td>\n",
              "      <td>Honduras</td>\n",
              "      <td>Title 8</td>\n",
              "      <td>Apprehensions</td>\n",
              "      <td>3140.0</td>\n",
              "    </tr>\n",
              "    <tr>\n",
              "      <th>2216</th>\n",
              "      <td>2022 (FYTD)</td>\n",
              "      <td>FYTD</td>\n",
              "      <td>OCT</td>\n",
              "      <td>U.S. Border Patrol</td>\n",
              "      <td>UC / Single Minors</td>\n",
              "      <td>Mexico</td>\n",
              "      <td>Title 8</td>\n",
              "      <td>Apprehensions</td>\n",
              "      <td>2307.0</td>\n",
              "    </tr>\n",
              "    <tr>\n",
              "      <th>2217</th>\n",
              "      <td>2022 (FYTD)</td>\n",
              "      <td>FYTD</td>\n",
              "      <td>OCT</td>\n",
              "      <td>U.S. Border Patrol</td>\n",
              "      <td>UC / Single Minors</td>\n",
              "      <td>Other</td>\n",
              "      <td>Title 8</td>\n",
              "      <td>Apprehensions</td>\n",
              "      <td>456.0</td>\n",
              "    </tr>\n",
              "  </tbody>\n",
              "</table>\n",
              "<p>2218 rows × 9 columns</p>\n",
              "</div>\n",
              "      <button class=\"colab-df-convert\" onclick=\"convertToInteractive('df-878809e3-96e0-4d4a-817a-c35fd3ed9669')\"\n",
              "              title=\"Convert this dataframe to an interactive table.\"\n",
              "              style=\"display:none;\">\n",
              "        \n",
              "  <svg xmlns=\"http://www.w3.org/2000/svg\" height=\"24px\"viewBox=\"0 0 24 24\"\n",
              "       width=\"24px\">\n",
              "    <path d=\"M0 0h24v24H0V0z\" fill=\"none\"/>\n",
              "    <path d=\"M18.56 5.44l.94 2.06.94-2.06 2.06-.94-2.06-.94-.94-2.06-.94 2.06-2.06.94zm-11 1L8.5 8.5l.94-2.06 2.06-.94-2.06-.94L8.5 2.5l-.94 2.06-2.06.94zm10 10l.94 2.06.94-2.06 2.06-.94-2.06-.94-.94-2.06-.94 2.06-2.06.94z\"/><path d=\"M17.41 7.96l-1.37-1.37c-.4-.4-.92-.59-1.43-.59-.52 0-1.04.2-1.43.59L10.3 9.45l-7.72 7.72c-.78.78-.78 2.05 0 2.83L4 21.41c.39.39.9.59 1.41.59.51 0 1.02-.2 1.41-.59l7.78-7.78 2.81-2.81c.8-.78.8-2.07 0-2.86zM5.41 20L4 18.59l7.72-7.72 1.47 1.35L5.41 20z\"/>\n",
              "  </svg>\n",
              "      </button>\n",
              "      \n",
              "  <style>\n",
              "    .colab-df-container {\n",
              "      display:flex;\n",
              "      flex-wrap:wrap;\n",
              "      gap: 12px;\n",
              "    }\n",
              "\n",
              "    .colab-df-convert {\n",
              "      background-color: #E8F0FE;\n",
              "      border: none;\n",
              "      border-radius: 50%;\n",
              "      cursor: pointer;\n",
              "      display: none;\n",
              "      fill: #1967D2;\n",
              "      height: 32px;\n",
              "      padding: 0 0 0 0;\n",
              "      width: 32px;\n",
              "    }\n",
              "\n",
              "    .colab-df-convert:hover {\n",
              "      background-color: #E2EBFA;\n",
              "      box-shadow: 0px 1px 2px rgba(60, 64, 67, 0.3), 0px 1px 3px 1px rgba(60, 64, 67, 0.15);\n",
              "      fill: #174EA6;\n",
              "    }\n",
              "\n",
              "    [theme=dark] .colab-df-convert {\n",
              "      background-color: #3B4455;\n",
              "      fill: #D2E3FC;\n",
              "    }\n",
              "\n",
              "    [theme=dark] .colab-df-convert:hover {\n",
              "      background-color: #434B5C;\n",
              "      box-shadow: 0px 1px 3px 1px rgba(0, 0, 0, 0.15);\n",
              "      filter: drop-shadow(0px 1px 2px rgba(0, 0, 0, 0.3));\n",
              "      fill: #FFFFFF;\n",
              "    }\n",
              "  </style>\n",
              "\n",
              "      <script>\n",
              "        const buttonEl =\n",
              "          document.querySelector('#df-878809e3-96e0-4d4a-817a-c35fd3ed9669 button.colab-df-convert');\n",
              "        buttonEl.style.display =\n",
              "          google.colab.kernel.accessAllowed ? 'block' : 'none';\n",
              "\n",
              "        async function convertToInteractive(key) {\n",
              "          const element = document.querySelector('#df-878809e3-96e0-4d4a-817a-c35fd3ed9669');\n",
              "          const dataTable =\n",
              "            await google.colab.kernel.invokeFunction('convertToInteractive',\n",
              "                                                     [key], {});\n",
              "          if (!dataTable) return;\n",
              "\n",
              "          const docLinkHtml = 'Like what you see? Visit the ' +\n",
              "            '<a target=\"_blank\" href=https://colab.research.google.com/notebooks/data_table.ipynb>data table notebook</a>'\n",
              "            + ' to learn more about interactive tables.';\n",
              "          element.innerHTML = '';\n",
              "          dataTable['output_type'] = 'display_data';\n",
              "          await google.colab.output.renderOutput(dataTable, element);\n",
              "          const docLink = document.createElement('div');\n",
              "          docLink.innerHTML = docLinkHtml;\n",
              "          element.appendChild(docLink);\n",
              "        }\n",
              "      </script>\n",
              "    </div>\n",
              "  </div>\n",
              "  "
            ]
          },
          "metadata": {},
          "execution_count": 6
        }
      ]
    },
    {
      "cell_type": "code",
      "source": [
        "data[[\"Citizenship Grouping\",\"Citizenship Grouping\",\"Encounter Count\"]].values"
      ],
      "metadata": {
        "colab": {
          "base_uri": "https://localhost:8080/"
        },
        "id": "NbjNkkQk_NJu",
        "outputId": "41b5f3b0-68ae-401e-9af7-74c1c413ba2e"
      },
      "execution_count": 7,
      "outputs": [
        {
          "output_type": "execute_result",
          "data": {
            "text/plain": [
              "array([['Guatemala', 'Guatemala', 0.0],\n",
              "       ['Honduras', 'Honduras', 9584.0],\n",
              "       ['Other', 'Other', 1108.0],\n",
              "       ...,\n",
              "       ['Honduras', 'Honduras', 3140.0],\n",
              "       ['Mexico', 'Mexico', 2307.0],\n",
              "       ['Other', 'Other', 456.0]], dtype=object)"
            ]
          },
          "metadata": {},
          "execution_count": 7
        }
      ]
    },
    {
      "cell_type": "code",
      "source": [
        "df = data.groupby(\"Citizenship Grouping\").max()\n",
        "df"
      ],
      "metadata": {
        "colab": {
          "base_uri": "https://localhost:8080/",
          "height": 235
        },
        "id": "dgRC63KeA5N4",
        "outputId": "e798c54b-ffd0-4fa1-b14d-7e4584ea4a6c"
      },
      "execution_count": 8,
      "outputs": [
        {
          "output_type": "execute_result",
          "data": {
            "text/plain": [
              "                      Fiscal Year Month Grouping Month (abbv)  \\\n",
              "Citizenship Grouping                                            \n",
              "El Salvador           2022 (FYTD)      Remaining          SEP   \n",
              "Guatemala             2022 (FYTD)      Remaining          SEP   \n",
              "Honduras              2022 (FYTD)      Remaining          SEP   \n",
              "Mexico                2022 (FYTD)      Remaining          SEP   \n",
              "Other                 2022 (FYTD)      Remaining          SEP   \n",
              "\n",
              "                               Component         Demographic  \\\n",
              "Citizenship Grouping                                           \n",
              "El Salvador           U.S. Border Patrol  UC / Single Minors   \n",
              "Guatemala             U.S. Border Patrol  UC / Single Minors   \n",
              "Honduras              U.S. Border Patrol  UC / Single Minors   \n",
              "Mexico                U.S. Border Patrol  UC / Single Minors   \n",
              "Other                 U.S. Border Patrol  UC / Single Minors   \n",
              "\n",
              "                     Title of Authority Encounter Type  Encounter Count  \n",
              "Citizenship Grouping                                                     \n",
              "El Salvador                     Title 8  Inadmissibles          10912.0  \n",
              "Guatemala                       Title 8  Inadmissibles          34164.0  \n",
              "Honduras                        Title 8  Inadmissibles          33202.0  \n",
              "Mexico                          Title 8  Inadmissibles          73243.0  \n",
              "Other                           Title 8  Inadmissibles          59861.0  "
            ],
            "text/html": [
              "\n",
              "  <div id=\"df-ed726c99-5224-4b39-a952-ac860315619a\">\n",
              "    <div class=\"colab-df-container\">\n",
              "      <div>\n",
              "<style scoped>\n",
              "    .dataframe tbody tr th:only-of-type {\n",
              "        vertical-align: middle;\n",
              "    }\n",
              "\n",
              "    .dataframe tbody tr th {\n",
              "        vertical-align: top;\n",
              "    }\n",
              "\n",
              "    .dataframe thead th {\n",
              "        text-align: right;\n",
              "    }\n",
              "</style>\n",
              "<table border=\"1\" class=\"dataframe\">\n",
              "  <thead>\n",
              "    <tr style=\"text-align: right;\">\n",
              "      <th></th>\n",
              "      <th>Fiscal Year</th>\n",
              "      <th>Month Grouping</th>\n",
              "      <th>Month (abbv)</th>\n",
              "      <th>Component</th>\n",
              "      <th>Demographic</th>\n",
              "      <th>Title of Authority</th>\n",
              "      <th>Encounter Type</th>\n",
              "      <th>Encounter Count</th>\n",
              "    </tr>\n",
              "    <tr>\n",
              "      <th>Citizenship Grouping</th>\n",
              "      <th></th>\n",
              "      <th></th>\n",
              "      <th></th>\n",
              "      <th></th>\n",
              "      <th></th>\n",
              "      <th></th>\n",
              "      <th></th>\n",
              "      <th></th>\n",
              "    </tr>\n",
              "  </thead>\n",
              "  <tbody>\n",
              "    <tr>\n",
              "      <th>El Salvador</th>\n",
              "      <td>2022 (FYTD)</td>\n",
              "      <td>Remaining</td>\n",
              "      <td>SEP</td>\n",
              "      <td>U.S. Border Patrol</td>\n",
              "      <td>UC / Single Minors</td>\n",
              "      <td>Title 8</td>\n",
              "      <td>Inadmissibles</td>\n",
              "      <td>10912.0</td>\n",
              "    </tr>\n",
              "    <tr>\n",
              "      <th>Guatemala</th>\n",
              "      <td>2022 (FYTD)</td>\n",
              "      <td>Remaining</td>\n",
              "      <td>SEP</td>\n",
              "      <td>U.S. Border Patrol</td>\n",
              "      <td>UC / Single Minors</td>\n",
              "      <td>Title 8</td>\n",
              "      <td>Inadmissibles</td>\n",
              "      <td>34164.0</td>\n",
              "    </tr>\n",
              "    <tr>\n",
              "      <th>Honduras</th>\n",
              "      <td>2022 (FYTD)</td>\n",
              "      <td>Remaining</td>\n",
              "      <td>SEP</td>\n",
              "      <td>U.S. Border Patrol</td>\n",
              "      <td>UC / Single Minors</td>\n",
              "      <td>Title 8</td>\n",
              "      <td>Inadmissibles</td>\n",
              "      <td>33202.0</td>\n",
              "    </tr>\n",
              "    <tr>\n",
              "      <th>Mexico</th>\n",
              "      <td>2022 (FYTD)</td>\n",
              "      <td>Remaining</td>\n",
              "      <td>SEP</td>\n",
              "      <td>U.S. Border Patrol</td>\n",
              "      <td>UC / Single Minors</td>\n",
              "      <td>Title 8</td>\n",
              "      <td>Inadmissibles</td>\n",
              "      <td>73243.0</td>\n",
              "    </tr>\n",
              "    <tr>\n",
              "      <th>Other</th>\n",
              "      <td>2022 (FYTD)</td>\n",
              "      <td>Remaining</td>\n",
              "      <td>SEP</td>\n",
              "      <td>U.S. Border Patrol</td>\n",
              "      <td>UC / Single Minors</td>\n",
              "      <td>Title 8</td>\n",
              "      <td>Inadmissibles</td>\n",
              "      <td>59861.0</td>\n",
              "    </tr>\n",
              "  </tbody>\n",
              "</table>\n",
              "</div>\n",
              "      <button class=\"colab-df-convert\" onclick=\"convertToInteractive('df-ed726c99-5224-4b39-a952-ac860315619a')\"\n",
              "              title=\"Convert this dataframe to an interactive table.\"\n",
              "              style=\"display:none;\">\n",
              "        \n",
              "  <svg xmlns=\"http://www.w3.org/2000/svg\" height=\"24px\"viewBox=\"0 0 24 24\"\n",
              "       width=\"24px\">\n",
              "    <path d=\"M0 0h24v24H0V0z\" fill=\"none\"/>\n",
              "    <path d=\"M18.56 5.44l.94 2.06.94-2.06 2.06-.94-2.06-.94-.94-2.06-.94 2.06-2.06.94zm-11 1L8.5 8.5l.94-2.06 2.06-.94-2.06-.94L8.5 2.5l-.94 2.06-2.06.94zm10 10l.94 2.06.94-2.06 2.06-.94-2.06-.94-.94-2.06-.94 2.06-2.06.94z\"/><path d=\"M17.41 7.96l-1.37-1.37c-.4-.4-.92-.59-1.43-.59-.52 0-1.04.2-1.43.59L10.3 9.45l-7.72 7.72c-.78.78-.78 2.05 0 2.83L4 21.41c.39.39.9.59 1.41.59.51 0 1.02-.2 1.41-.59l7.78-7.78 2.81-2.81c.8-.78.8-2.07 0-2.86zM5.41 20L4 18.59l7.72-7.72 1.47 1.35L5.41 20z\"/>\n",
              "  </svg>\n",
              "      </button>\n",
              "      \n",
              "  <style>\n",
              "    .colab-df-container {\n",
              "      display:flex;\n",
              "      flex-wrap:wrap;\n",
              "      gap: 12px;\n",
              "    }\n",
              "\n",
              "    .colab-df-convert {\n",
              "      background-color: #E8F0FE;\n",
              "      border: none;\n",
              "      border-radius: 50%;\n",
              "      cursor: pointer;\n",
              "      display: none;\n",
              "      fill: #1967D2;\n",
              "      height: 32px;\n",
              "      padding: 0 0 0 0;\n",
              "      width: 32px;\n",
              "    }\n",
              "\n",
              "    .colab-df-convert:hover {\n",
              "      background-color: #E2EBFA;\n",
              "      box-shadow: 0px 1px 2px rgba(60, 64, 67, 0.3), 0px 1px 3px 1px rgba(60, 64, 67, 0.15);\n",
              "      fill: #174EA6;\n",
              "    }\n",
              "\n",
              "    [theme=dark] .colab-df-convert {\n",
              "      background-color: #3B4455;\n",
              "      fill: #D2E3FC;\n",
              "    }\n",
              "\n",
              "    [theme=dark] .colab-df-convert:hover {\n",
              "      background-color: #434B5C;\n",
              "      box-shadow: 0px 1px 3px 1px rgba(0, 0, 0, 0.15);\n",
              "      filter: drop-shadow(0px 1px 2px rgba(0, 0, 0, 0.3));\n",
              "      fill: #FFFFFF;\n",
              "    }\n",
              "  </style>\n",
              "\n",
              "      <script>\n",
              "        const buttonEl =\n",
              "          document.querySelector('#df-ed726c99-5224-4b39-a952-ac860315619a button.colab-df-convert');\n",
              "        buttonEl.style.display =\n",
              "          google.colab.kernel.accessAllowed ? 'block' : 'none';\n",
              "\n",
              "        async function convertToInteractive(key) {\n",
              "          const element = document.querySelector('#df-ed726c99-5224-4b39-a952-ac860315619a');\n",
              "          const dataTable =\n",
              "            await google.colab.kernel.invokeFunction('convertToInteractive',\n",
              "                                                     [key], {});\n",
              "          if (!dataTable) return;\n",
              "\n",
              "          const docLinkHtml = 'Like what you see? Visit the ' +\n",
              "            '<a target=\"_blank\" href=https://colab.research.google.com/notebooks/data_table.ipynb>data table notebook</a>'\n",
              "            + ' to learn more about interactive tables.';\n",
              "          element.innerHTML = '';\n",
              "          dataTable['output_type'] = 'display_data';\n",
              "          await google.colab.output.renderOutput(dataTable, element);\n",
              "          const docLink = document.createElement('div');\n",
              "          docLink.innerHTML = docLinkHtml;\n",
              "          element.appendChild(docLink);\n",
              "        }\n",
              "      </script>\n",
              "    </div>\n",
              "  </div>\n",
              "  "
            ]
          },
          "metadata": {},
          "execution_count": 8
        }
      ]
    },
    {
      "cell_type": "code",
      "source": [
        "df = data.groupby(\"Citizenship Grouping\").count()\n",
        "df.plot.pie(y='Encounter Count', autopct='%1.1f%%',  shadow=True, startangle=190)"
      ],
      "metadata": {
        "colab": {
          "base_uri": "https://localhost:8080/",
          "height": 265
        },
        "id": "4P4O79JO-9G3",
        "outputId": "6346af01-7a03-4142-902f-659297d9333b"
      },
      "execution_count": 10,
      "outputs": [
        {
          "output_type": "execute_result",
          "data": {
            "text/plain": [
              "<matplotlib.axes._subplots.AxesSubplot at 0x7ff00c9e3810>"
            ]
          },
          "metadata": {},
          "execution_count": 10
        },
        {
          "output_type": "display_data",
          "data": {
            "text/plain": [
              "<Figure size 432x288 with 1 Axes>"
            ],
            "image/png": "[encoded data removed]"
          },
          "metadata": {}
        }
      ]
    },
    {
      "cell_type": "code",
      "source": [
        "df.plot.pie(y='Demographic', autopct='%1.1f%%',  shadow=True, startangle=190)"
      ],
      "metadata": {
        "colab": {
          "base_uri": "https://localhost:8080/",
          "height": 265
        },
        "id": "_uiGZe39Aojj",
        "outputId": "3ac04b52-1b32-4458-e67a-001928eb8824"
      },
      "execution_count": 11,
      "outputs": [
        {
          "output_type": "execute_result",
          "data": {
            "text/plain": [
              "<matplotlib.axes._subplots.AxesSubplot at 0x7ff00c985410>"
            ]
          },
          "metadata": {},
          "execution_count": 11
        },
        {
          "output_type": "display_data",
          "data": {
            "text/plain": [
              "<Figure size 432x288 with 1 Axes>"
            ],
            "image/png": "[encoded data removed]"
          },
          "metadata": {}
        }
      ]
    },
    {
      "cell_type": "code",
      "source": [
        "df.plot.pie(y='Encounter Type', autopct='%1.1f%%',  shadow=True, startangle=190)"
      ],
      "metadata": {
        "colab": {
          "base_uri": "https://localhost:8080/",
          "height": 265
        },
        "id": "PMJrHivQA8IH",
        "outputId": "49f7e9a2-97de-474c-fe0c-eb4a77cd7394"
      },
      "execution_count": 12,
      "outputs": [
        {
          "output_type": "execute_result",
          "data": {
            "text/plain": [
              "<matplotlib.axes._subplots.AxesSubplot at 0x7ff00c909d10>"
            ]
          },
          "metadata": {},
          "execution_count": 12
        },
        {
          "output_type": "display_data",
          "data": {
            "text/plain": [
              "<Figure size 432x288 with 1 Axes>"
            ],
            "image/png": "[encoded data removed]"
          },
          "metadata": {}
        }
      ]
    },
    {
      "cell_type": "code",
      "source": [
        "# Create a bar chart based off of the group series from before\n",
        "count_chart = df.plot(kind='bar')\n",
        "\n",
        "# Set the xlabel and ylabel using class methods\n",
        "count_chart.set_xlabel(\"Countries\")\n",
        "count_chart.set_ylabel(\"Numbers \")\n",
        "\n",
        "\n",
        "plt.show()\n",
        "plt.tight_layout()"
      ],
      "metadata": {
        "colab": {
          "base_uri": "https://localhost:8080/",
          "height": 342
        },
        "id": "TD0e6bndMnFB",
        "outputId": "e4506bcd-21c9-4c02-bac2-bbea05f8a819"
      },
      "execution_count": 187,
      "outputs": [
        {
          "output_type": "display_data",
          "data": {
            "text/plain": [
              "<Figure size 432x288 with 1 Axes>"
            ],
            "image/png": "[encoded data removed]"
          },
          "metadata": {
            "needs_background": "light"
          }
        },
        {
          "output_type": "display_data",
          "data": {
            "text/plain": [
              "<Figure size 432x288 with 0 Axes>"
            ]
          },
          "metadata": {}
        }
      ]
    }
  ]
}