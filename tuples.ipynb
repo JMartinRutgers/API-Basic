{
  "nbformat": 4,
  "nbformat_minor": 0,
  "metadata": {
    "colab": {
      "provenance": [],
      "authorship_tag": "ABX9TyNYnDwt6BFS2FJS1W/CbuUt",
      "include_colab_link": true
    },
    "kernelspec": {
      "name": "python3",
      "display_name": "Python 3"
    },
    "language_info": {
      "name": "python"
    }
  },
  "cells": [
    {
      "cell_type": "markdown",
      "metadata": {
        "id": "view-in-github",
        "colab_type": "text"
      },
      "source": [
        "<a href=\"https://colab.research.google.com/github/JMartinRutgers/API-Basic/blob/main/tuples.ipynb\" target=\"_parent\"><img src=\"https://colab.research.google.com/assets/colab-badge.svg\" alt=\"Open In Colab\"/></a>"
      ]
    },
    {
      "cell_type": "code",
      "execution_count": 34,
      "metadata": {
        "id": "ZQGNIjQ2jO6-"
      },
      "outputs": [],
      "source": [
        "from collections import namedtuple\n",
        "\n",
        "def can_take_order(driver, num_packages):\n",
        "  return driver.car_capacity >= num_packages\n",
        "\n",
        "\n",
        "def main():\n",
        "  Driver = namedtuple(\"driver\", [\"name\", \"car_type\", \"car_capacity\"])\n",
        "\n",
        "  iris = Driver(\"Iris\", \"Prius\",7)\n",
        "  mickie = Driver(\"Mickie\", \"Tucson\", 18)\n",
        "  witty = Driver(\"Witty\", \"Hummer\", 26)\n",
        "  print(can_take_order(iris, 26))\n",
        "  print(can_take_order(witty, 26))\n",
        "  return\n",
        "  \n",
        "\n",
        "  \n",
        "\n",
        "\n",
        "  if __name__==\"__main__\":\n",
        "    main()"
      ]
    },
    {
      "cell_type": "code",
      "source": [
        "\n",
        "from collections import namedtuple, defaultdict\n",
        "from csv import reader\n",
        "from pprint import pprint\n",
        " \n",
        "def main():\n",
        "    #add code here\n",
        "    res = defaultdict(int)\n",
        "    with open(\"/content/OrderItems.csv\", \"r\") as open_csv:\n",
        "        read = reader(open_csv)\n",
        "        Item = namedtuple(\"Item\", next(read))\n",
        "        for line in read:\n",
        "            item = Item(*line)\n",
        "            res[item.ProductID] += int(item.Quantity)\n",
        "    pprint(dict(res))\n",
        "    return\n",
        "\n",
        "if __name__ == \"__main__\":\n",
        "    main()"
      ],
      "metadata": {
        "colab": {
          "base_uri": "https://localhost:8080/"
        },
        "id": "W2w4OTWybCOg",
        "outputId": "103ce8a8-6a60-46d7-c808-8a69ac31d903"
      },
      "execution_count": 33,
      "outputs": [
        {
          "output_type": "stream",
          "name": "stdout",
          "text": [
            "{'BEV001': 6,\n",
            " 'BEV002': 4,\n",
            " 'BEV003': 6,\n",
            " 'DES001': 11,\n",
            " 'DES002': 8,\n",
            " 'DES003': 1,\n",
            " 'DES004': 12,\n",
            " 'DES005': 7,\n",
            " 'ENT001': 3,\n",
            " 'ENT002': 6,\n",
            " 'ENT003': 2,\n",
            " 'ENT004': 10,\n",
            " 'ENT005': 5,\n",
            " 'SAL001': 5,\n",
            " 'SAL002': 5,\n",
            " 'SAL004': 5,\n",
            " 'STA001': 1,\n",
            " 'STA003': 6,\n",
            " 'STA004': 1,\n",
            " 'STA005': 8}\n"
          ]
        }
      ]
    },
    {
      "cell_type": "markdown",
      "source": [
        "# New Section"
      ],
      "metadata": {
        "id": "_zdNAOKXdrm3"
      }
    }
  ]
}