{
  "nbformat": 4,
  "nbformat_minor": 0,
  "metadata": {
    "colab": {
      "name": "Basic_class_definitions.ipynb",
      "provenance": [],
      "authorship_tag": "ABX9TyOEWDlZNJoRZyP9EEAIy9V4",
      "include_colab_link": true
    },
    "kernelspec": {
      "name": "python3",
      "display_name": "Python 3"
    },
    "language_info": {
      "name": "python"
    }
  },
  "cells": [
    {
      "cell_type": "markdown",
      "metadata": {
        "id": "view-in-github",
        "colab_type": "text"
      },
      "source": [
        "<a href=\"https://colab.research.google.com/github/JMartinRutgers/API-Basic/blob/main/Basic_class_definitions.ipynb\" target=\"_parent\"><img src=\"https://colab.research.google.com/assets/colab-badge.svg\" alt=\"Open In Colab\"/></a>"
      ]
    },
    {
      "cell_type": "code",
      "metadata": {
        "colab": {
          "base_uri": "https://localhost:8080/"
        },
        "id": "3VgToYa5Cmn7",
        "outputId": "ce0b6436-a1bf-47fa-fafe-357aa164811f"
      },
      "source": [
        "\n",
        "# Basic class definitions\n",
        "\n",
        "\n",
        "class Book:\n",
        "    # the \"init\" function is called when the instance is\n",
        "    # created and ready to be initialized\n",
        "    def __init__(self, title):\n",
        "        self.title = title\n",
        "\n",
        "\n",
        "# TODO: create instances of the class\n",
        "book1 = Book(\"Brave New World\")\n",
        "book2 = Book(\"War and Peace\")\n",
        "\n",
        "# TODO: print the class and property\n",
        "print(book1)\n",
        "print(book1.title)\n"
      ],
      "execution_count": 2,
      "outputs": [
        {
          "output_type": "stream",
          "name": "stdout",
          "text": [
            "<__main__.Book object at 0x7fe294122fd0>\n",
            "Brave New World\n"
          ]
        }
      ]
    },
    {
      "cell_type": "code",
      "metadata": {
        "colab": {
          "base_uri": "https://localhost:8080/"
        },
        "id": "Q9DeBtHPEX3U",
        "outputId": "15b47979-e0f4-4c92-b478-db480eb6d705"
      },
      "source": [
        "# Using instance methods and attributes\n",
        "\n",
        "\n",
        "class Book:\n",
        "    # the \"init\" function is called when the instance is\n",
        "    # created and ready to be initialized\n",
        "    def __init__(self, title, pages, author, price):\n",
        "        self.title = title\n",
        "        self.pages = pages\n",
        "        self.author = author\n",
        "        self.price = price\n",
        "        self.__secret = \"This is a secret attribute\"\n",
        "\n",
        "    # instance methods are defined like any other function, with the\n",
        "    # first argument as the object (\"self\" is just a convention)\n",
        "    def setDiscount(self, amount):\n",
        "        self._discount = amount\n",
        "\n",
        "    def getPrice(self):\n",
        "        if hasattr(self, \"_discount\"):\n",
        "            return self.price - (self.price * self._discount)\n",
        "        else:\n",
        "            return self.price\n",
        "\n",
        "\n",
        "# create some book instances\n",
        "b1 = Book(\"War and Peace\", \"Leo Tolstoy\", 1225, 39.95)\n",
        "b2 = Book(\"The Catcher in the Rye\", \"JD Salinger\", 234, 29.95)\n",
        "\n",
        "# print the price of book1\n",
        "print(b1.getPrice())\n",
        "\n",
        "# try setting the discount\n",
        "print(b2.getPrice())\n",
        "b2.setDiscount(0.25)\n",
        "print(b2.getPrice())\n",
        "\n",
        "# properties with double underscores are hidden by the interpreter\n",
        "print(b2._discount)\n",
        "# print(b2.__secret)\n",
        "# print(b2._Book__secret)\n",
        "\n"
      ],
      "execution_count": 3,
      "outputs": [
        {
          "output_type": "stream",
          "name": "stdout",
          "text": [
            "39.95\n",
            "29.95\n",
            "22.4625\n",
            "0.25\n"
          ]
        }
      ]
    }
  ]
}