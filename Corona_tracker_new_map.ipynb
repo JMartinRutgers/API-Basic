{
  "nbformat": 4,
  "nbformat_minor": 0,
  "metadata": {
    "colab": {
      "name": "Corona_tracker.ipynb",
      "provenance": [],
      "collapsed_sections": [],
      "include_colab_link": true
    },
    "kernelspec": {
      "name": "python3",
      "display_name": "Python 3"
    }
  },
  "cells": [
    {
      "cell_type": "markdown",
      "metadata": {
        "id": "view-in-github",
        "colab_type": "text"
      },
      "source": [
        "<a href=\"https://colab.research.google.com/github/JMartinRutgers/API-Basic/blob/main/Corona_tracker_new_map.ipynb\" target=\"_parent\"><img src=\"https://colab.research.google.com/assets/colab-badge.svg\" alt=\"Open In Colab\"/></a>"
      ]
    },
    {
      "cell_type": "code",
      "metadata": {
        "id": "hI9rjrRozdxs"
      },
      "source": [
        "import pandas as pd\n",
        "import numpy as np\n",
        "import plotly.express as px\n",
        "import geopandas as gpd\n",
        "# !pip3 install  geopandas"
      ],
      "execution_count": null,
      "outputs": []
    },
    {
      "cell_type": "code",
      "metadata": {
        "id": "j6_5eF6Tzz4u",
        "colab": {
          "base_uri": "https://localhost:8080/",
          "height": 453
        },
        "outputId": "ae4fd356-e0a8-4938-a035-db0255fd0b9b"
      },
      "source": [
        "#import data set from coronavirus \n",
        "import requests\n",
        "from pandas import DataFrame as df\n",
        "import plotly.graph_objects as go \n",
        "\n",
        "r = requests.get('https://coronavirus-tracker-api.herokuapp.com/v2/locations')\n",
        "\n",
        "#change to json\n",
        "r = df(r.json()['locations']) \n",
        "r"
      ],
      "execution_count": null,
      "outputs": [
        {
          "output_type": "execute_result",
          "data": {
            "text/html": [
              "<div>\n",
              "<style scoped>\n",
              "    .dataframe tbody tr th:only-of-type {\n",
              "        vertical-align: middle;\n",
              "    }\n",
              "\n",
              "    .dataframe tbody tr th {\n",
              "        vertical-align: top;\n",
              "    }\n",
              "\n",
              "    .dataframe thead th {\n",
              "        text-align: right;\n",
              "    }\n",
              "</style>\n",
              "<table border=\"1\" class=\"dataframe\">\n",
              "  <thead>\n",
              "    <tr style=\"text-align: right;\">\n",
              "      <th></th>\n",
              "      <th>id</th>\n",
              "      <th>country</th>\n",
              "      <th>country_code</th>\n",
              "      <th>country_population</th>\n",
              "      <th>province</th>\n",
              "      <th>last_updated</th>\n",
              "      <th>coordinates</th>\n",
              "      <th>latest</th>\n",
              "    </tr>\n",
              "  </thead>\n",
              "  <tbody>\n",
              "    <tr>\n",
              "      <th>0</th>\n",
              "      <td>0</td>\n",
              "      <td>Afghanistan</td>\n",
              "      <td>AF</td>\n",
              "      <td>37172386.0</td>\n",
              "      <td></td>\n",
              "      <td>2021-08-30T15:33:39.183559Z</td>\n",
              "      <td>{'latitude': '33.93911', 'longitude': '67.7099...</td>\n",
              "      <td>{'confirmed': 152960, 'deaths': 7101, 'recover...</td>\n",
              "    </tr>\n",
              "    <tr>\n",
              "      <th>1</th>\n",
              "      <td>1</td>\n",
              "      <td>Albania</td>\n",
              "      <td>AL</td>\n",
              "      <td>2866376.0</td>\n",
              "      <td></td>\n",
              "      <td>2021-08-30T15:33:39.205765Z</td>\n",
              "      <td>{'latitude': '41.1533', 'longitude': '20.1683'}</td>\n",
              "      <td>{'confirmed': 144847, 'deaths': 2492, 'recover...</td>\n",
              "    </tr>\n",
              "    <tr>\n",
              "      <th>2</th>\n",
              "      <td>2</td>\n",
              "      <td>Algeria</td>\n",
              "      <td>DZ</td>\n",
              "      <td>42228429.0</td>\n",
              "      <td></td>\n",
              "      <td>2021-08-30T15:33:39.226334Z</td>\n",
              "      <td>{'latitude': '28.0339', 'longitude': '1.6596'}</td>\n",
              "      <td>{'confirmed': 195162, 'deaths': 5209, 'recover...</td>\n",
              "    </tr>\n",
              "    <tr>\n",
              "      <th>3</th>\n",
              "      <td>3</td>\n",
              "      <td>Andorra</td>\n",
              "      <td>AD</td>\n",
              "      <td>77006.0</td>\n",
              "      <td></td>\n",
              "      <td>2021-08-30T15:33:39.251089Z</td>\n",
              "      <td>{'latitude': '42.5063', 'longitude': '1.5218'}</td>\n",
              "      <td>{'confirmed': 15025, 'deaths': 130, 'recovered...</td>\n",
              "    </tr>\n",
              "    <tr>\n",
              "      <th>4</th>\n",
              "      <td>4</td>\n",
              "      <td>Angola</td>\n",
              "      <td>AO</td>\n",
              "      <td>30809762.0</td>\n",
              "      <td></td>\n",
              "      <td>2021-08-30T15:33:39.274911Z</td>\n",
              "      <td>{'latitude': '-11.2027', 'longitude': '17.8739'}</td>\n",
              "      <td>{'confirmed': 47168, 'deaths': 1201, 'recovere...</td>\n",
              "    </tr>\n",
              "    <tr>\n",
              "      <th>...</th>\n",
              "      <td>...</td>\n",
              "      <td>...</td>\n",
              "      <td>...</td>\n",
              "      <td>...</td>\n",
              "      <td>...</td>\n",
              "      <td>...</td>\n",
              "      <td>...</td>\n",
              "      <td>...</td>\n",
              "    </tr>\n",
              "    <tr>\n",
              "      <th>274</th>\n",
              "      <td>274</td>\n",
              "      <td>Vietnam</td>\n",
              "      <td>VN</td>\n",
              "      <td>95540395.0</td>\n",
              "      <td></td>\n",
              "      <td>2021-08-30T15:33:43.526203Z</td>\n",
              "      <td>{'latitude': '14.058324', 'longitude': '108.27...</td>\n",
              "      <td>{'confirmed': 435265, 'deaths': 10749, 'recove...</td>\n",
              "    </tr>\n",
              "    <tr>\n",
              "      <th>275</th>\n",
              "      <td>275</td>\n",
              "      <td>West Bank and Gaza</td>\n",
              "      <td>PS</td>\n",
              "      <td>4569087.0</td>\n",
              "      <td></td>\n",
              "      <td>2021-08-30T15:33:43.540026Z</td>\n",
              "      <td>{'latitude': '31.9522', 'longitude': '35.2332'}</td>\n",
              "      <td>{'confirmed': 337405, 'deaths': 3672, 'recover...</td>\n",
              "    </tr>\n",
              "    <tr>\n",
              "      <th>276</th>\n",
              "      <td>276</td>\n",
              "      <td>Yemen</td>\n",
              "      <td>YE</td>\n",
              "      <td>28498687.0</td>\n",
              "      <td></td>\n",
              "      <td>2021-08-30T15:33:43.554072Z</td>\n",
              "      <td>{'latitude': '15.552727', 'longitude': '48.516...</td>\n",
              "      <td>{'confirmed': 7784, 'deaths': 1461, 'recovered...</td>\n",
              "    </tr>\n",
              "    <tr>\n",
              "      <th>277</th>\n",
              "      <td>277</td>\n",
              "      <td>Zambia</td>\n",
              "      <td>ZM</td>\n",
              "      <td>17351822.0</td>\n",
              "      <td></td>\n",
              "      <td>2021-08-30T15:33:43.568022Z</td>\n",
              "      <td>{'latitude': '-13.133897', 'longitude': '27.84...</td>\n",
              "      <td>{'confirmed': 206051, 'deaths': 3596, 'recover...</td>\n",
              "    </tr>\n",
              "    <tr>\n",
              "      <th>278</th>\n",
              "      <td>278</td>\n",
              "      <td>Zimbabwe</td>\n",
              "      <td>ZW</td>\n",
              "      <td>14439018.0</td>\n",
              "      <td></td>\n",
              "      <td>2021-08-30T15:33:43.584041Z</td>\n",
              "      <td>{'latitude': '-19.015438', 'longitude': '29.15...</td>\n",
              "      <td>{'confirmed': 124437, 'deaths': 4401, 'recover...</td>\n",
              "    </tr>\n",
              "  </tbody>\n",
              "</table>\n",
              "<p>279 rows × 8 columns</p>\n",
              "</div>"
            ],
            "text/plain": [
              "      id  ...                                             latest\n",
              "0      0  ...  {'confirmed': 152960, 'deaths': 7101, 'recover...\n",
              "1      1  ...  {'confirmed': 144847, 'deaths': 2492, 'recover...\n",
              "2      2  ...  {'confirmed': 195162, 'deaths': 5209, 'recover...\n",
              "3      3  ...  {'confirmed': 15025, 'deaths': 130, 'recovered...\n",
              "4      4  ...  {'confirmed': 47168, 'deaths': 1201, 'recovere...\n",
              "..   ...  ...                                                ...\n",
              "274  274  ...  {'confirmed': 435265, 'deaths': 10749, 'recove...\n",
              "275  275  ...  {'confirmed': 337405, 'deaths': 3672, 'recover...\n",
              "276  276  ...  {'confirmed': 7784, 'deaths': 1461, 'recovered...\n",
              "277  277  ...  {'confirmed': 206051, 'deaths': 3596, 'recover...\n",
              "278  278  ...  {'confirmed': 124437, 'deaths': 4401, 'recover...\n",
              "\n",
              "[279 rows x 8 columns]"
            ]
          },
          "metadata": {},
          "execution_count": 4
        }
      ]
    },
    {
      "cell_type": "code",
      "metadata": {
        "id": "YoQqvFzkzljX",
        "colab": {
          "base_uri": "https://localhost:8080/",
          "height": 720
        },
        "outputId": "acb826a5-eeda-42b9-8968-9b3e937c0f9f"
      },
      "source": [
        " #clean data and create list of longitude and latitude\n",
        "\n",
        "lon = []\n",
        "lat = []\n",
        "\n",
        "for x in r['coordinates']:\n",
        "    lon.append(x['longitude'])\n",
        "    lat.append(x['latitude'])\n",
        "\n",
        "#create two new columns with latitud and longitude \n",
        "r['lat'] = df(lat)\n",
        "r['lon'] = df(lon)\n",
        "\n",
        "print(r)\n",
        "\n",
        "\n",
        "for x in r.head():\n",
        "  print(x)\n",
        "\n",
        "#create empty list of confirmed, geaths, recovery   \n",
        "\n",
        "confirmed =[]\n",
        "deaths=[]\n",
        "recovered=[]\n",
        "\n",
        "for x in r['latest']:\n",
        "  confirmed.append(x['confirmed'])\n",
        "  deaths.append(x['deaths'])\n",
        "  recovered.append(x['recovered'])\n",
        "\n",
        "#create data frame from the clean data set \n",
        "r['confirmed']= df(confirmed)\n",
        "r['deaths']= df(deaths)\n",
        "r['recovered']= df(recovered)\n",
        "r.head(5)"
      ],
      "execution_count": null,
      "outputs": [
        {
          "output_type": "stream",
          "text": [
            "      id             country  ...         lat         lon\n",
            "0      0         Afghanistan  ...    33.93911   67.709953\n",
            "1      1             Albania  ...     41.1533     20.1683\n",
            "2      2             Algeria  ...     28.0339      1.6596\n",
            "3      3             Andorra  ...     42.5063      1.5218\n",
            "4      4              Angola  ...    -11.2027     17.8739\n",
            "..   ...                 ...  ...         ...         ...\n",
            "274  274             Vietnam  ...   14.058324  108.277199\n",
            "275  275  West Bank and Gaza  ...     31.9522     35.2332\n",
            "276  276               Yemen  ...   15.552727   48.516388\n",
            "277  277              Zambia  ...  -13.133897   27.849332\n",
            "278  278            Zimbabwe  ...  -19.015438   29.154857\n",
            "\n",
            "[279 rows x 10 columns]\n",
            "id\n",
            "country\n",
            "country_code\n",
            "country_population\n",
            "province\n",
            "last_updated\n",
            "coordinates\n",
            "latest\n",
            "lat\n",
            "lon\n"
          ],
          "name": "stdout"
        },
        {
          "output_type": "execute_result",
          "data": {
            "text/html": [
              "<div>\n",
              "<style scoped>\n",
              "    .dataframe tbody tr th:only-of-type {\n",
              "        vertical-align: middle;\n",
              "    }\n",
              "\n",
              "    .dataframe tbody tr th {\n",
              "        vertical-align: top;\n",
              "    }\n",
              "\n",
              "    .dataframe thead th {\n",
              "        text-align: right;\n",
              "    }\n",
              "</style>\n",
              "<table border=\"1\" class=\"dataframe\">\n",
              "  <thead>\n",
              "    <tr style=\"text-align: right;\">\n",
              "      <th></th>\n",
              "      <th>id</th>\n",
              "      <th>country</th>\n",
              "      <th>country_code</th>\n",
              "      <th>country_population</th>\n",
              "      <th>province</th>\n",
              "      <th>last_updated</th>\n",
              "      <th>coordinates</th>\n",
              "      <th>latest</th>\n",
              "      <th>lat</th>\n",
              "      <th>lon</th>\n",
              "      <th>confirmed</th>\n",
              "      <th>deaths</th>\n",
              "      <th>recovered</th>\n",
              "    </tr>\n",
              "  </thead>\n",
              "  <tbody>\n",
              "    <tr>\n",
              "      <th>0</th>\n",
              "      <td>0</td>\n",
              "      <td>Afghanistan</td>\n",
              "      <td>AF</td>\n",
              "      <td>37172386.0</td>\n",
              "      <td></td>\n",
              "      <td>2021-08-30T15:33:39.183559Z</td>\n",
              "      <td>{'latitude': '33.93911', 'longitude': '67.7099...</td>\n",
              "      <td>{'confirmed': 152960, 'deaths': 7101, 'recover...</td>\n",
              "      <td>33.93911</td>\n",
              "      <td>67.709953</td>\n",
              "      <td>152960</td>\n",
              "      <td>7101</td>\n",
              "      <td>0</td>\n",
              "    </tr>\n",
              "    <tr>\n",
              "      <th>1</th>\n",
              "      <td>1</td>\n",
              "      <td>Albania</td>\n",
              "      <td>AL</td>\n",
              "      <td>2866376.0</td>\n",
              "      <td></td>\n",
              "      <td>2021-08-30T15:33:39.205765Z</td>\n",
              "      <td>{'latitude': '41.1533', 'longitude': '20.1683'}</td>\n",
              "      <td>{'confirmed': 144847, 'deaths': 2492, 'recover...</td>\n",
              "      <td>41.1533</td>\n",
              "      <td>20.1683</td>\n",
              "      <td>144847</td>\n",
              "      <td>2492</td>\n",
              "      <td>0</td>\n",
              "    </tr>\n",
              "    <tr>\n",
              "      <th>2</th>\n",
              "      <td>2</td>\n",
              "      <td>Algeria</td>\n",
              "      <td>DZ</td>\n",
              "      <td>42228429.0</td>\n",
              "      <td></td>\n",
              "      <td>2021-08-30T15:33:39.226334Z</td>\n",
              "      <td>{'latitude': '28.0339', 'longitude': '1.6596'}</td>\n",
              "      <td>{'confirmed': 195162, 'deaths': 5209, 'recover...</td>\n",
              "      <td>28.0339</td>\n",
              "      <td>1.6596</td>\n",
              "      <td>195162</td>\n",
              "      <td>5209</td>\n",
              "      <td>0</td>\n",
              "    </tr>\n",
              "    <tr>\n",
              "      <th>3</th>\n",
              "      <td>3</td>\n",
              "      <td>Andorra</td>\n",
              "      <td>AD</td>\n",
              "      <td>77006.0</td>\n",
              "      <td></td>\n",
              "      <td>2021-08-30T15:33:39.251089Z</td>\n",
              "      <td>{'latitude': '42.5063', 'longitude': '1.5218'}</td>\n",
              "      <td>{'confirmed': 15025, 'deaths': 130, 'recovered...</td>\n",
              "      <td>42.5063</td>\n",
              "      <td>1.5218</td>\n",
              "      <td>15025</td>\n",
              "      <td>130</td>\n",
              "      <td>0</td>\n",
              "    </tr>\n",
              "    <tr>\n",
              "      <th>4</th>\n",
              "      <td>4</td>\n",
              "      <td>Angola</td>\n",
              "      <td>AO</td>\n",
              "      <td>30809762.0</td>\n",
              "      <td></td>\n",
              "      <td>2021-08-30T15:33:39.274911Z</td>\n",
              "      <td>{'latitude': '-11.2027', 'longitude': '17.8739'}</td>\n",
              "      <td>{'confirmed': 47168, 'deaths': 1201, 'recovere...</td>\n",
              "      <td>-11.2027</td>\n",
              "      <td>17.8739</td>\n",
              "      <td>47168</td>\n",
              "      <td>1201</td>\n",
              "      <td>0</td>\n",
              "    </tr>\n",
              "  </tbody>\n",
              "</table>\n",
              "</div>"
            ],
            "text/plain": [
              "   id      country country_code  ...  confirmed deaths recovered\n",
              "0   0  Afghanistan           AF  ...     152960   7101         0\n",
              "1   1      Albania           AL  ...     144847   2492         0\n",
              "2   2      Algeria           DZ  ...     195162   5209         0\n",
              "3   3      Andorra           AD  ...      15025    130         0\n",
              "4   4       Angola           AO  ...      47168   1201         0\n",
              "\n",
              "[5 rows x 13 columns]"
            ]
          },
          "metadata": {},
          "execution_count": 5
        }
      ]
    },
    {
      "cell_type": "code",
      "metadata": {
        "id": "0lVxUn8Bks15"
      },
      "source": [
        "# r= (['confirmed','deaths','recovered'])\n",
        "# for x in r:\n",
        "#   print(x)"
      ],
      "execution_count": null,
      "outputs": []
    },
    {
      "cell_type": "code",
      "metadata": {
        "id": "ZBxlO6HkNucW"
      },
      "source": [
        "# x = r.groupby('country')\n",
        "# print(x)\n"
      ],
      "execution_count": null,
      "outputs": []
    },
    {
      "cell_type": "code",
      "metadata": {
        "id": "bC7DFms5rOG8"
      },
      "source": [
        "# for r in x:\n",
        "#   print(r)"
      ],
      "execution_count": null,
      "outputs": []
    },
    {
      "cell_type": "code",
      "metadata": {
        "id": "bcmPXAW4zpx1",
        "colab": {
          "base_uri": "https://localhost:8080/",
          "height": 922
        },
        "outputId": "f6df491e-0a7a-40ec-dece-4f4c7c77cd28"
      },
      "source": [
        " #creating variables for maping using plotly\n",
        "#set up plotly\n",
        "\n",
        "map_confirmed = go.Scattermapbox(\n",
        "    \n",
        "    name = 'confirmed',\n",
        "    customdata=r.loc[:, ['confirmed','deaths','recovered']],\n",
        "    lon = r['lon'],\n",
        "    lat = r['lat'],\n",
        "    text= r['country'],\n",
        "    hovertemplate=\"<b>%{text}</b><br>\"+\n",
        "    \"Confirmed: %{customdata[0]}<br>\"+\n",
        "    \"<extra></extra>\",\n",
        "        \n",
        "    )\n",
        "\n",
        "map_deaths = go.Scattermapbox(\n",
        "    customdata=r.loc[:, ['confirmed','deaths','recovered']],\n",
        "     name = 'deaths',\n",
        "    lon = r['lon'],\n",
        "    lat = r['lat'],\n",
        "    text= r['country'],\n",
        "    hovertemplate=\"<b>%{text}</b><br>\"+\n",
        "    \"Deaths: %{customdata[1]}<br>\"+\n",
        "    \"<extra></extra>\",\n",
        "   \n",
        "    \n",
        ")\n",
        "map_recovered =go.Scattermapbox( \n",
        "    customdata=r.loc[:, ['confirmed','deaths','recovered']],\n",
        "    name = 'recovered',\n",
        "    lon = r['lon'],\n",
        "    lat = r['lat'],\n",
        "    text= r['country'],\n",
        "    hovertemplate=\"<b>%{text}</b><br>\"+\n",
        "    \"Recovered: %{customdata[2]}<br>\"+\n",
        "    \"<extra></extra>\",\n",
        ")\n",
        "layout=go.Layout(\n",
        "    mapbox_style='white-bg',\n",
        "    autosize=True,\n",
        "    mapbox_layers =[\n",
        "        {\n",
        "            'below':'traces',\n",
        "            'sourcetype':'raster',\n",
        "            'source':[\"https://basemap.nationalmap.gov/arcgis/rest/services/USGSImageryOnly/MapServer/tile/{z}/{y}/{x}\"\n",
        "            ]\n",
        "        }           \n",
        "    ]\n",
        ")\n",
        "\n",
        "data = [map_confirmed,map_deaths,map_recovered]\n",
        "fig = go.Figure(data=data, layout=layout)\n",
        "fig.show()\n",
        "\n"
      ],
      "execution_count": null,
      "outputs": [
        {
          "output_type": "display_data",
          "data": {
            "text/html": [
              "<html>\n",
              "<head><meta charset=\"utf-8\" /></head>\n",
              "<body>\n",
              "    <div>\n",
              "            <script src=\"https://cdnjs.cloudflare.com/ajax/libs/mathjax/2.7.5/MathJax.js?config=TeX-AMS-MML_SVG\"></script><script type=\"text/javascript\">if (window.MathJax) {MathJax.Hub.Config({SVG: {font: \"STIX-Web\"}});}</script>\n",
              "                <script type=\"text/javascript\">window.PlotlyConfig = {MathJaxConfig: 'local'};</script>\n",
              "        <script src=\"https://cdn.plot.ly/plotly-latest.min.js\"></script>    \n",
              "            <div id=\"efbf5883-b9f8-4eeb-bf3a-21dd3fefeb6f\" class=\"plotly-graph-div\" style=\"height:525px; width:100%;\"></div>\n",
              "            <script type=\"text/javascript\">\n",
              "                \n",
              "                    window.PLOTLYENV=window.PLOTLYENV || {};\n",
              "                    \n",
              "                if (document.getElementById(\"efbf5883-b9f8-4eeb-bf3a-21dd3fefeb6f\")) {\n",
              "                    Plotly.newPlot(\n",
              "                        'efbf5883-b9f8-4eeb-bf3a-21dd3fefeb6f',\n",
              "                        [{\"customdata\": [[152960, 7101, 0], [144847, 2492, 0], [195162, 5209, 0], [15025, 130, 0], [47168, 1201, 0], [1651, 43, 0], [5173531, 111383, 0], [241336, 4823, 0], [386, 3, 0], [25857, 147, 0], [201, 0, 0], [1979, 7, 0], [871, 4, 0], [235, 13, 0], [21996, 820, 0], [1086, 9, 0], [685956, 10781, 0], [417996, 5553, 0], [17940, 354, 0], [272341, 1388, 0], [1493537, 26015, 0], [4931, 49, 0], [479306, 3757, 0], [1177909, 25360, 0], [16012, 356, 0], [13366, 128, 0], [2594, 3, 0], [490056, 18411, 0], [212306, 9785, 0], [153793, 2213, 0], [20741815, 579308, 0], [2462, 7, 0], [451599, 18731, 0], [13762, 171, 0], [392300, 15183, 0], [11994, 38, 0], [35227, 309, 0], [92208, 1881, 0], [83425, 1350, 0], [248954, 2364, 0], [163560, 1807, 0], [0, 1, 0], [13, 0, 0], [58506, 1189, 0], [2721, 46, 0], [1469, 7, 0], [400, 1, 0], [5999, 94, 0], [657, 4, 0], [571789, 9550, 0], [230, 0, 0], [388413, 11285, 0], [13, 0, 0], [53875, 598, 0], [684, 8, 0], [11270, 99, 0], [4991, 174, 0], [1637829, 36885, 0], [1008, 6, 0], [1115, 9, 0], [603, 6, 0], [786, 1, 0], [199, 2, 0], [3055, 8, 0], [289, 2, 0], [147, 2, 0], [190, 6, 0], [1317, 7, 0], [1615, 13, 0], [1528, 22, 0], [12107, 212, 0], [68290, 4512, 0], [1181, 4, 0], [412, 1, 0], [1589, 0, 0], [937, 1, 0], [574, 3, 0], [446, 2, 0], [63, 0, 0], [77, 0, 0], [18, 0, 0], [669, 3, 0], [924, 7, 0], [2476, 7, 0], [259, 0, 0], [1188, 3, 0], [472, 3, 0], [1, 0, 0], [0, 0, 0], [980, 3, 0], [1067, 2, 0], [1430, 1, 0], [4905258, 124811, 0], [4062, 147, 0], [13533, 183, 0], [54508, 1057, 0], [455784, 5431, 0], [55108, 430, 0], [373191, 8325, 0], [640438, 5144, 0], [113277, 499, 0], [1678862, 30402, 0], [1000, 2, 0], [333, 0, 0], [344088, 2580, 0], [712, 13, 0], [11741, 157, 0], [1638, 4, 0], [349859, 4007, 0], [501140, 32232, 0], [287899, 16721, 0], [94060, 2898, 0], [9326, 124, 0], [6640, 37, 0], [141344, 1289, 0], [42828, 1081, 0], [306117, 4644, 0], [46027, 479, 0], [126093, 1024, 0], [34166, 215, 0], [40178, 385, 0], [37955, 427, 0], [35953, 411, 0], [19739, 175, 0], [136, 0, 0], [48683, 332, 0], [1520, 2, 0], [30, 0, 0], [3273, 42, 0], [445, 7, 0], [6605068, 112510, 0], [25819, 165, 0], [9626, 314, 0], [543118, 7251, 0], [3940212, 92146, 0], [117636, 1008, 0], [581315, 13581, 0], [357, 1, 0], [465059, 11858, 0], [29209, 326, 0], [5766, 117, 0], [25323, 611, 0], [20833, 584, 0], [27, 0, 0], [335398, 8832, 0], [811706, 30057, 0], [10658, 33, 0], [32737939, 438210, 0], [4073831, 131923, 0], [4926964, 106482, 0], [1874435, 20699, 0], [349773, 5092, 0], [1051609, 6989, 0], [4530246, 129093, 0], [66663, 1504, 0], [1460222, 15969, 0], [795161, 10383, 0], [854842, 12655, 0], [234952, 4710, 0], [2, 0, 0], [250051, 2284, 0], [142671, 2457, 0], [409552, 2417, 0], [175437, 2518, 0], [14641, 12, 0], [142319, 2573, 0], [600451, 8044, 0], [14395, 403, 0], [5538, 245, 0], [305793, 4184, 0], [3263, 59, 0], [297777, 4539, 0], [75517, 830, 0], [9, 2, 0], [42862, 955, 0], [60345, 2161, 0], [1706089, 16087, 0], [80791, 226, 0], [14857, 539, 0], [36089, 440, 0], [4, 0, 0], [33309, 705, 0], [8667, 27, 0], [3335700, 258165, 0], [1, 0, 0], [266988, 6394, 0], [3183, 33, 0], [211080, 931, 0], [114364, 1716, 0], [853373, 12437, 0], [145863, 1851, 0], [124716, 3372, 0], [759222, 10714, 0], [14465, 137, 0], [1787, 17, 0], [15248, 143, 0], [3641, 49, 0], [1936572, 17996, 0], [1, 0, 0], [3519, 26, 0], [11167, 199, 0], [5839, 198, 0], [191345, 2454, 0], [175330, 5869, 0], [157040, 814, 0], [302132, 4057, 0], [1156281, 25670, 0], [2, 0, 0], [456666, 7046, 0], [17838, 192, 0], [458334, 15723, 0], [2147285, 198115, 0], [1954023, 33109, 0], [2888231, 75340, 0], [1034947, 17721, 0], [232366, 602, 0], [1096753, 34528, 0], [6785465, 178457, 0], [86613, 1079, 0], [1053, 3, 0], [8111, 103, 0], [2331, 12, 0], [3, 0, 0], [5261, 90, 0], [2590, 37, 0], [543318, 8512, 0], [72709, 1749, 0], [757617, 7266, 0], [19777, 104, 0], [6363, 121, 0], [67171, 55, 0], [394742, 12548, 0], [266514, 4448, 0], [20, 0, 0], [17302, 963, 0], [2764931, 81595, 0], [11403, 120, 0], [4831809, 84000, 0], [426169, 8775, 0], [37699, 2831, 0], [777, 0, 0], [28840, 715, 0], [1123413, 14685, 0], [770765, 10965, 0], [27654, 2003, 0], [15983, 834, 0], [16778, 124, 0], [1367, 50, 0], [1174091, 11143, 0], [16402, 62, 0], [21181, 180, 0], [44481, 1278, 0], [660587, 23369, 0], [6329519, 55958, 0], [38796746, 637531, 0], [119732, 2991, 0], [2381553, 56900, 0], [716381, 2038, 0], [201, 0, 0], [2844, 33, 0], [2568, 37, 0], [669, 2, 0], [10486, 95, 0], [66, 0, 0], [5338, 97, 0], [6629, 38, 0], [26, 1, 0], [4, 0, 0], [2650, 20, 0], [6731423, 132437, 0], [384692, 6029, 0], [154844, 1070, 0], [4, 1, 0], [333125, 3998, 0], [435265, 10749, 0], [337405, 3672, 0], [7784, 1461, 0], [206051, 3596, 0], [124437, 4401, 0]], \"hovertemplate\": \"<b>%{text}</b><br>Confirmed: %{customdata[0]}<br><extra></extra>\", \"lat\": [\"33.93911\", \"41.1533\", \"28.0339\", \"42.5063\", \"-11.2027\", \"17.0608\", \"-38.4161\", \"40.0691\", \"-35.4735\", \"-33.8688\", \"-12.4634\", \"-27.4698\", \"-34.9285\", \"-42.8821\", \"-37.8136\", \"-31.9505\", \"47.5162\", \"40.1431\", \"25.025885\", \"26.0275\", \"23.685\", \"13.1939\", \"53.7098\", \"50.8333\", \"17.1899\", \"9.3077\", \"27.5142\", \"-16.2902\", \"43.9159\", \"-22.3285\", \"-14.235\", \"4.5353\", \"42.7339\", \"12.2383\", \"21.9162\", \"-3.3731\", \"16.5388\", \"11.55\", \"3.848\", \"53.9333\", \"53.7267\", \"0.0\", \"0.0\", \"53.7609\", \"46.5653\", \"53.1355\", \"64.8255\", \"44.682\", \"70.2998\", \"51.2538\", \"46.5107\", \"52.9399\", \"\", \"52.9399\", \"64.2823\", \"6.6111\", \"15.4542\", \"-35.6751\", \"31.8257\", \"40.1824\", \"30.0572\", \"26.0789\", \"35.7518\", \"23.3417\", \"23.8298\", \"26.8154\", \"19.1959\", \"39.549\", \"47.862\", \"37.8957\", \"22.3\", \"30.9756\", \"27.6104\", \"44.0935\", \"32.9711\", \"27.614\", \"43.6661\", \"41.2956\", \"22.1667\", \"37.2692\", \"35.7452\", \"35.1917\", \"36.3427\", \"31.202\", \"37.5777\", \"30.6171\", \"39.3054\", \"31.6927\", \"\", \"41.1129\", \"24.974\", \"29.1832\", \"4.5709\", \"-11.6455\", \"-0.228\", \"-4.0383\", \"9.7489\", \"7.54\", \"45.1\", \"21.521757\", \"35.1264\", \"49.8175\", \"61.8926\", \"71.7069\", \"56.2639\", \"0.0\", \"11.8251\", \"15.415\", \"18.7357\", \"-1.8312\", \"26.820553\", \"13.7942\", \"1.6508\", \"15.1794\", \"58.5953\", \"-26.5225\", \"9.145\", \"-17.7134\", \"61.92411\", \"3.9339\", \"-17.6797\", \"16.265\", \"14.6415\", \"-12.8275\", \"-20.904305\", \"-21.1151\", \"17.9\", \"46.8852\", \"18.0708\", \"-14.2938\", \"46.2276\", \"-0.8037\", \"13.4432\", \"42.3154\", \"51.165691\", \"7.9465\", \"39.0742\", \"12.1165\", \"15.7835\", \"9.9456\", \"11.8037\", \"4.860416\", \"18.9712\", \"41.9029\", \"15.2\", \"47.1625\", \"64.9631\", \"20.593684\", \"-0.7893\", \"32.427908\", \"33.223191\", \"53.1424\", \"31.046051\", \"41.87194\", \"18.1096\", \"36.204824\", \"31.24\", \"48.0196\", \"-0.0236\", \"-3.3704\", \"35.907757\", \"42.602636\", \"29.31166\", \"41.20438\", \"19.85627\", \"56.8796\", \"33.8547\", \"-29.61\", \"6.428055\", \"26.3351\", \"47.14\", \"55.1694\", \"49.8153\", \"0.0\", \"-18.766947\", \"-13.2543\", \"4.210484\", \"3.2028\", \"17.570692\", \"35.9375\", \"7.1315\", \"21.0079\", \"-20.348404\", \"23.6345\", \"7.4256\", \"47.4116\", \"43.7333\", \"46.8625\", \"42.708678\", \"31.7917\", \"-18.665695\", \"-22.9576\", \"28.1667\", \"12.5211\", \"12.1784\", \"12.1696\", \"18.0425\", \"52.1326\", \"-21.2367\", \"-40.9006\", \"12.865416\", \"17.607789\", \"9.082\", \"41.6086\", \"60.472\", \"21.512583\", \"30.3753\", \"7.515\", \"8.538\", \"-6.314993\", \"-23.4425\", \"-9.19\", \"12.879721\", \"51.9194\", \"39.3999\", \"25.3548\", \"45.9432\", \"61.52401\", \"-1.9403\", \"17.357822\", \"13.9094\", \"12.9843\", \"-13.759\", \"43.9424\", \"0.1864\", \"23.885942\", \"14.4974\", \"44.0165\", \"-4.6796\", \"8.460555\", \"1.2833\", \"48.669\", \"46.1512\", \"-9.6457\", \"5.152149\", \"-30.5595\", \"6.877\", \"40.463667\", \"7.873054\", \"12.8628\", \"35.6491\", \"3.9193\", \"60.128161\", \"46.8182\", \"34.802075\", \"23.7\", \"38.861\", \"-6.369028\", \"15.870032\", \"-8.874217\", \"8.6195\", \"10.6918\", \"33.886917\", \"38.9637\", \"40.0\", \"1.373333\", \"48.3794\", \"23.424076\", \"18.2206\", \"32.3078\", \"18.4207\", \"19.3133\", \"49.3723\", \"-51.7963\", \"36.1408\", \"54.2361\", \"16.742498\", \"-7.9467\", \"21.694\", \"55.3781\", \"-32.5228\", \"41.377491\", \"-15.3767\", \"6.4238\", \"14.058324\", \"31.9522\", \"15.552727\", \"-13.133897\", \"-19.015438\"], \"lon\": [\"67.709953\", \"20.1683\", \"1.6596\", \"1.5218\", \"17.8739\", \"-61.7964\", \"-63.6167\", \"45.0382\", \"149.0124\", \"151.2093\", \"130.8456\", \"153.0251\", \"138.6007\", \"147.3272\", \"144.9631\", \"115.8605\", \"14.5501\", \"47.5769\", \"-78.035889\", \"50.55\", \"90.3563\", \"-59.5432\", \"27.9534\", \"4.469936\", \"-88.4976\", \"2.3158\", \"90.4336\", \"-63.5887\", \"17.6791\", \"24.6849\", \"-51.9253\", \"114.7277\", \"25.4858\", \"-1.5616\", \"95.956\", \"29.9189\", \"-23.0418\", \"104.9167\", \"11.5021\", \"-116.5765\", \"-127.6476\", \"0.0\", \"0.0\", \"-98.8139\", \"-66.4619\", \"-57.6604\", \"-124.8457\", \"-63.7443\", \"-83.1076\", \"-85.3232\", \"-63.4168\", \"-73.5491\", \"\", \"-106.4509\", \"-135.0\", \"20.9394\", \"18.7322\", \"-71.543\", \"117.2264\", \"116.4142\", \"107.874\", \"117.9874\", \"104.2861\", \"113.4244\", \"108.7881\", \"106.8748\", \"109.7453\", \"116.1306\", \"127.7615\", \"114.9042\", \"114.2\", \"112.2707\", \"111.7088\", \"113.9448\", \"119.455\", \"115.7221\", \"126.1923\", \"122.6085\", \"113.55\", \"106.1655\", \"95.9956\", \"108.8701\", \"118.1498\", \"121.4491\", \"112.2922\", \"102.7103\", \"117.323\", \"88.0924\", \"\", \"85.2401\", \"101.487\", \"120.0934\", \"-74.2973\", \"43.3333\", \"15.8277\", \"21.7587\", \"-83.7534\", \"-5.5471\", \"15.2\", \"-77.781167\", \"33.4299\", \"15.473\", \"-6.9118\", \"-42.6043\", \"9.5018\", \"0.0\", \"42.5903\", \"-61.371\", \"-70.1627\", \"-78.1834\", \"30.802498\", \"-88.8965\", \"10.2679\", \"39.7823\", \"25.0136\", \"31.4659\", \"40.4897\", \"178.065\", \"25.748151\", \"-53.1258\", \"149.4068\", \"-61.551\", \"-61.0242\", \"45.166244\", \"165.618042\", \"55.5364\", \"-62.8333\", \"-56.3159\", \"-63.0501\", \"-178.1165\", \"2.2137\", \"11.6094\", \"-15.3101\", \"43.3569\", \"10.451526\", \"-1.0232\", \"21.8243\", \"-61.679\", \"-90.2308\", \"-9.6966\", \"-15.1804\", \"-58.93018\", \"-72.2852\", \"12.4534\", \"-86.2419\", \"19.5033\", \"-19.0208\", \"78.96288\", \"113.9213\", \"53.688046\", \"43.679291\", \"-7.6921\", \"34.851612\", \"12.56738\", \"-77.2975\", \"138.252924\", \"36.51\", \"66.9237\", \"37.9062\", \"-168.734\", \"127.766922\", \"20.902977\", \"47.481766\", \"74.766098\", \"102.495496\", \"24.6032\", \"35.8623\", \"28.2336\", \"-9.429499\", \"17.228331\", \"9.55\", \"23.8813\", \"6.1296\", \"0.0\", \"46.869107\", \"34.3015\", \"101.975766\", \"73.2207\", \"-3.996166\", \"14.3754\", \"171.1845\", \"-10.9408\", \"57.552152\", \"-102.5528\", \"150.5508\", \"28.3699\", \"7.4167\", \"103.8467\", \"19.37439\", \"-7.0926\", \"35.529562\", \"18.4904\", \"84.25\", \"-69.9683\", \"-68.2385\", \"-68.99\", \"-63.0548\", \"5.2913\", \"-159.7777\", \"174.886\", \"-85.207229\", \"8.081666\", \"8.6753\", \"21.7453\", \"8.4689\", \"55.923255\", \"69.3451\", \"134.5825\", \"-80.7821\", \"143.95555\", \"-58.4438\", \"-75.0152\", \"121.774017\", \"19.1451\", \"-8.2245\", \"51.1839\", \"24.9668\", \"105.318756\", \"29.8739\", \"-62.782998\", \"-60.9789\", \"-61.2872\", \"-172.1046\", \"12.4578\", \"6.6131\", \"45.079162\", \"-14.4524\", \"21.0059\", \"55.492\", \"-11.779889\", \"103.8333\", \"19.699\", \"14.9955\", \"160.1562\", \"46.199616\", \"22.9375\", \"31.307\", \"-3.74922\", \"80.771797\", \"30.2176\", \"139.7737\", \"-56.0278\", \"18.643501\", \"8.2275\", \"38.996815\", \"121.0\", \"71.2761\", \"34.888822\", \"100.992541\", \"125.727539\", \"0.8248\", \"-61.2225\", \"9.537499\", \"35.2433\", \"-100.0\", \"32.290275\", \"31.1656\", \"53.847818\", \"-63.0686\", \"-64.7505\", \"-64.64\", \"-81.2546\", \"-2.3644\", \"-59.5236\", \"-5.3536\", \"-4.5481\", \"-62.187366\", \"-14.3559\", \"-71.7979\", \"-3.436\", \"-55.7658\", \"64.585262\", \"166.9592\", \"-66.5897\", \"108.277199\", \"35.2332\", \"48.516388\", \"27.849332\", \"29.154857\"], \"name\": \"confirmed\", \"text\": [\"Afghanistan\", \"Albania\", \"Algeria\", \"Andorra\", \"Angola\", \"Antigua and Barbuda\", \"Argentina\", \"Armenia\", \"Australia\", \"Australia\", \"Australia\", \"Australia\", \"Australia\", \"Australia\", \"Australia\", \"Australia\", \"Austria\", \"Azerbaijan\", \"Bahamas\", \"Bahrain\", \"Bangladesh\", \"Barbados\", \"Belarus\", \"Belgium\", \"Belize\", \"Benin\", \"Bhutan\", \"Bolivia\", \"Bosnia and Herzegovina\", \"Botswana\", \"Brazil\", \"Brunei\", \"Bulgaria\", \"Burkina Faso\", \"Burma\", \"Burundi\", \"Cabo Verde\", \"Cambodia\", \"Cameroon\", \"Canada\", \"Canada\", \"Canada\", \"Canada\", \"Canada\", \"Canada\", \"Canada\", \"Canada\", \"Canada\", \"Canada\", \"Canada\", \"Canada\", \"Canada\", \"Canada\", \"Canada\", \"Canada\", \"Central African Republic\", \"Chad\", \"Chile\", \"China\", \"China\", \"China\", \"China\", \"China\", \"China\", \"China\", \"China\", \"China\", \"China\", \"China\", \"China\", \"China\", \"China\", \"China\", \"China\", \"China\", \"China\", \"China\", \"China\", \"China\", \"China\", \"China\", \"China\", \"China\", \"China\", \"China\", \"China\", \"China\", \"China\", \"China\", \"China\", \"China\", \"China\", \"Colombia\", \"Comoros\", \"Congo (Brazzaville)\", \"Congo (Kinshasa)\", \"Costa Rica\", \"Cote d'Ivoire\", \"Croatia\", \"Cuba\", \"Cyprus\", \"Czechia\", \"Denmark\", \"Denmark\", \"Denmark\", \"Diamond Princess\", \"Djibouti\", \"Dominica\", \"Dominican Republic\", \"Ecuador\", \"Egypt\", \"El Salvador\", \"Equatorial Guinea\", \"Eritrea\", \"Estonia\", \"Eswatini\", \"Ethiopia\", \"Fiji\", \"Finland\", \"France\", \"France\", \"France\", \"France\", \"France\", \"France\", \"France\", \"France\", \"France\", \"France\", \"France\", \"France\", \"Gabon\", \"Gambia\", \"Georgia\", \"Germany\", \"Ghana\", \"Greece\", \"Grenada\", \"Guatemala\", \"Guinea\", \"Guinea-Bissau\", \"Guyana\", \"Haiti\", \"Holy See\", \"Honduras\", \"Hungary\", \"Iceland\", \"India\", \"Indonesia\", \"Iran\", \"Iraq\", \"Ireland\", \"Israel\", \"Italy\", \"Jamaica\", \"Japan\", \"Jordan\", \"Kazakhstan\", \"Kenya\", \"Kiribati\", \"Korea, South\", \"Kosovo\", \"Kuwait\", \"Kyrgyzstan\", \"Laos\", \"Latvia\", \"Lebanon\", \"Lesotho\", \"Liberia\", \"Libya\", \"Liechtenstein\", \"Lithuania\", \"Luxembourg\", \"MS Zaandam\", \"Madagascar\", \"Malawi\", \"Malaysia\", \"Maldives\", \"Mali\", \"Malta\", \"Marshall Islands\", \"Mauritania\", \"Mauritius\", \"Mexico\", \"Micronesia\", \"Moldova\", \"Monaco\", \"Mongolia\", \"Montenegro\", \"Morocco\", \"Mozambique\", \"Namibia\", \"Nepal\", \"Netherlands\", \"Netherlands\", \"Netherlands\", \"Netherlands\", \"Netherlands\", \"New Zealand\", \"New Zealand\", \"Nicaragua\", \"Niger\", \"Nigeria\", \"North Macedonia\", \"Norway\", \"Oman\", \"Pakistan\", \"Palau\", \"Panama\", \"Papua New Guinea\", \"Paraguay\", \"Peru\", \"Philippines\", \"Poland\", \"Portugal\", \"Qatar\", \"Romania\", \"Russia\", \"Rwanda\", \"Saint Kitts and Nevis\", \"Saint Lucia\", \"Saint Vincent and the Grenadines\", \"Samoa\", \"San Marino\", \"Sao Tome and Principe\", \"Saudi Arabia\", \"Senegal\", \"Serbia\", \"Seychelles\", \"Sierra Leone\", \"Singapore\", \"Slovakia\", \"Slovenia\", \"Solomon Islands\", \"Somalia\", \"South Africa\", \"South Sudan\", \"Spain\", \"Sri Lanka\", \"Sudan\", \"Summer Olympics 2020\", \"Suriname\", \"Sweden\", \"Switzerland\", \"Syria\", \"Taiwan*\", \"Tajikistan\", \"Tanzania\", \"Thailand\", \"Timor-Leste\", \"Togo\", \"Trinidad and Tobago\", \"Tunisia\", \"Turkey\", \"US\", \"Uganda\", \"Ukraine\", \"United Arab Emirates\", \"United Kingdom\", \"United Kingdom\", \"United Kingdom\", \"United Kingdom\", \"United Kingdom\", \"United Kingdom\", \"United Kingdom\", \"United Kingdom\", \"United Kingdom\", \"United Kingdom\", \"United Kingdom\", \"United Kingdom\", \"Uruguay\", \"Uzbekistan\", \"Vanuatu\", \"Venezuela\", \"Vietnam\", \"West Bank and Gaza\", \"Yemen\", \"Zambia\", \"Zimbabwe\"], \"type\": \"scattermapbox\"}, {\"customdata\": [[152960, 7101, 0], [144847, 2492, 0], [195162, 5209, 0], [15025, 130, 0], [47168, 1201, 0], [1651, 43, 0], [5173531, 111383, 0], [241336, 4823, 0], [386, 3, 0], [25857, 147, 0], [201, 0, 0], [1979, 7, 0], [871, 4, 0], [235, 13, 0], [21996, 820, 0], [1086, 9, 0], [685956, 10781, 0], [417996, 5553, 0], [17940, 354, 0], [272341, 1388, 0], [1493537, 26015, 0], [4931, 49, 0], [479306, 3757, 0], [1177909, 25360, 0], [16012, 356, 0], [13366, 128, 0], [2594, 3, 0], [490056, 18411, 0], [212306, 9785, 0], [153793, 2213, 0], [20741815, 579308, 0], [2462, 7, 0], [451599, 18731, 0], [13762, 171, 0], [392300, 15183, 0], [11994, 38, 0], [35227, 309, 0], [92208, 1881, 0], [83425, 1350, 0], [248954, 2364, 0], [163560, 1807, 0], [0, 1, 0], [13, 0, 0], [58506, 1189, 0], [2721, 46, 0], [1469, 7, 0], [400, 1, 0], [5999, 94, 0], [657, 4, 0], [571789, 9550, 0], [230, 0, 0], [388413, 11285, 0], [13, 0, 0], [53875, 598, 0], [684, 8, 0], [11270, 99, 0], [4991, 174, 0], [1637829, 36885, 0], [1008, 6, 0], [1115, 9, 0], [603, 6, 0], [786, 1, 0], [199, 2, 0], [3055, 8, 0], [289, 2, 0], [147, 2, 0], [190, 6, 0], [1317, 7, 0], [1615, 13, 0], [1528, 22, 0], [12107, 212, 0], [68290, 4512, 0], [1181, 4, 0], [412, 1, 0], [1589, 0, 0], [937, 1, 0], [574, 3, 0], [446, 2, 0], [63, 0, 0], [77, 0, 0], [18, 0, 0], [669, 3, 0], [924, 7, 0], [2476, 7, 0], [259, 0, 0], [1188, 3, 0], [472, 3, 0], [1, 0, 0], [0, 0, 0], [980, 3, 0], [1067, 2, 0], [1430, 1, 0], [4905258, 124811, 0], [4062, 147, 0], [13533, 183, 0], [54508, 1057, 0], [455784, 5431, 0], [55108, 430, 0], [373191, 8325, 0], [640438, 5144, 0], [113277, 499, 0], [1678862, 30402, 0], [1000, 2, 0], [333, 0, 0], [344088, 2580, 0], [712, 13, 0], [11741, 157, 0], [1638, 4, 0], [349859, 4007, 0], [501140, 32232, 0], [287899, 16721, 0], [94060, 2898, 0], [9326, 124, 0], [6640, 37, 0], [141344, 1289, 0], [42828, 1081, 0], [306117, 4644, 0], [46027, 479, 0], [126093, 1024, 0], [34166, 215, 0], [40178, 385, 0], [37955, 427, 0], [35953, 411, 0], [19739, 175, 0], [136, 0, 0], [48683, 332, 0], [1520, 2, 0], [30, 0, 0], [3273, 42, 0], [445, 7, 0], [6605068, 112510, 0], [25819, 165, 0], [9626, 314, 0], [543118, 7251, 0], [3940212, 92146, 0], [117636, 1008, 0], [581315, 13581, 0], [357, 1, 0], [465059, 11858, 0], [29209, 326, 0], [5766, 117, 0], [25323, 611, 0], [20833, 584, 0], [27, 0, 0], [335398, 8832, 0], [811706, 30057, 0], [10658, 33, 0], [32737939, 438210, 0], [4073831, 131923, 0], [4926964, 106482, 0], [1874435, 20699, 0], [349773, 5092, 0], [1051609, 6989, 0], [4530246, 129093, 0], [66663, 1504, 0], [1460222, 15969, 0], [795161, 10383, 0], [854842, 12655, 0], [234952, 4710, 0], [2, 0, 0], [250051, 2284, 0], [142671, 2457, 0], [409552, 2417, 0], [175437, 2518, 0], [14641, 12, 0], [142319, 2573, 0], [600451, 8044, 0], [14395, 403, 0], [5538, 245, 0], [305793, 4184, 0], [3263, 59, 0], [297777, 4539, 0], [75517, 830, 0], [9, 2, 0], [42862, 955, 0], [60345, 2161, 0], [1706089, 16087, 0], [80791, 226, 0], [14857, 539, 0], [36089, 440, 0], [4, 0, 0], [33309, 705, 0], [8667, 27, 0], [3335700, 258165, 0], [1, 0, 0], [266988, 6394, 0], [3183, 33, 0], [211080, 931, 0], [114364, 1716, 0], [853373, 12437, 0], [145863, 1851, 0], [124716, 3372, 0], [759222, 10714, 0], [14465, 137, 0], [1787, 17, 0], [15248, 143, 0], [3641, 49, 0], [1936572, 17996, 0], [1, 0, 0], [3519, 26, 0], [11167, 199, 0], [5839, 198, 0], [191345, 2454, 0], [175330, 5869, 0], [157040, 814, 0], [302132, 4057, 0], [1156281, 25670, 0], [2, 0, 0], [456666, 7046, 0], [17838, 192, 0], [458334, 15723, 0], [2147285, 198115, 0], [1954023, 33109, 0], [2888231, 75340, 0], [1034947, 17721, 0], [232366, 602, 0], [1096753, 34528, 0], [6785465, 178457, 0], [86613, 1079, 0], [1053, 3, 0], [8111, 103, 0], [2331, 12, 0], [3, 0, 0], [5261, 90, 0], [2590, 37, 0], [543318, 8512, 0], [72709, 1749, 0], [757617, 7266, 0], [19777, 104, 0], [6363, 121, 0], [67171, 55, 0], [394742, 12548, 0], [266514, 4448, 0], [20, 0, 0], [17302, 963, 0], [2764931, 81595, 0], [11403, 120, 0], [4831809, 84000, 0], [426169, 8775, 0], [37699, 2831, 0], [777, 0, 0], [28840, 715, 0], [1123413, 14685, 0], [770765, 10965, 0], [27654, 2003, 0], [15983, 834, 0], [16778, 124, 0], [1367, 50, 0], [1174091, 11143, 0], [16402, 62, 0], [21181, 180, 0], [44481, 1278, 0], [660587, 23369, 0], [6329519, 55958, 0], [38796746, 637531, 0], [119732, 2991, 0], [2381553, 56900, 0], [716381, 2038, 0], [201, 0, 0], [2844, 33, 0], [2568, 37, 0], [669, 2, 0], [10486, 95, 0], [66, 0, 0], [5338, 97, 0], [6629, 38, 0], [26, 1, 0], [4, 0, 0], [2650, 20, 0], [6731423, 132437, 0], [384692, 6029, 0], [154844, 1070, 0], [4, 1, 0], [333125, 3998, 0], [435265, 10749, 0], [337405, 3672, 0], [7784, 1461, 0], [206051, 3596, 0], [124437, 4401, 0]], \"hovertemplate\": \"<b>%{text}</b><br>Deaths: %{customdata[1]}<br><extra></extra>\", \"lat\": [\"33.93911\", \"41.1533\", \"28.0339\", \"42.5063\", \"-11.2027\", \"17.0608\", \"-38.4161\", \"40.0691\", \"-35.4735\", \"-33.8688\", \"-12.4634\", \"-27.4698\", \"-34.9285\", \"-42.8821\", \"-37.8136\", \"-31.9505\", \"47.5162\", \"40.1431\", \"25.025885\", \"26.0275\", \"23.685\", \"13.1939\", \"53.7098\", \"50.8333\", \"17.1899\", \"9.3077\", \"27.5142\", \"-16.2902\", \"43.9159\", \"-22.3285\", \"-14.235\", \"4.5353\", \"42.7339\", \"12.2383\", \"21.9162\", \"-3.3731\", \"16.5388\", \"11.55\", \"3.848\", \"53.9333\", \"53.7267\", \"0.0\", \"0.0\", \"53.7609\", \"46.5653\", \"53.1355\", \"64.8255\", \"44.682\", \"70.2998\", \"51.2538\", \"46.5107\", \"52.9399\", \"\", \"52.9399\", \"64.2823\", \"6.6111\", \"15.4542\", \"-35.6751\", \"31.8257\", \"40.1824\", \"30.0572\", \"26.0789\", \"35.7518\", \"23.3417\", \"23.8298\", \"26.8154\", \"19.1959\", \"39.549\", \"47.862\", \"37.8957\", \"22.3\", \"30.9756\", \"27.6104\", \"44.0935\", \"32.9711\", \"27.614\", \"43.6661\", \"41.2956\", \"22.1667\", \"37.2692\", \"35.7452\", \"35.1917\", \"36.3427\", \"31.202\", \"37.5777\", \"30.6171\", \"39.3054\", \"31.6927\", \"\", \"41.1129\", \"24.974\", \"29.1832\", \"4.5709\", \"-11.6455\", \"-0.228\", \"-4.0383\", \"9.7489\", \"7.54\", \"45.1\", \"21.521757\", \"35.1264\", \"49.8175\", \"61.8926\", \"71.7069\", \"56.2639\", \"0.0\", \"11.8251\", \"15.415\", \"18.7357\", \"-1.8312\", \"26.820553\", \"13.7942\", \"1.6508\", \"15.1794\", \"58.5953\", \"-26.5225\", \"9.145\", \"-17.7134\", \"61.92411\", \"3.9339\", \"-17.6797\", \"16.265\", \"14.6415\", \"-12.8275\", \"-20.904305\", \"-21.1151\", \"17.9\", \"46.8852\", \"18.0708\", \"-14.2938\", \"46.2276\", \"-0.8037\", \"13.4432\", \"42.3154\", \"51.165691\", \"7.9465\", \"39.0742\", \"12.1165\", \"15.7835\", \"9.9456\", \"11.8037\", \"4.860416\", \"18.9712\", \"41.9029\", \"15.2\", \"47.1625\", \"64.9631\", \"20.593684\", \"-0.7893\", \"32.427908\", \"33.223191\", \"53.1424\", \"31.046051\", \"41.87194\", \"18.1096\", \"36.204824\", \"31.24\", \"48.0196\", \"-0.0236\", \"-3.3704\", \"35.907757\", \"42.602636\", \"29.31166\", \"41.20438\", \"19.85627\", \"56.8796\", \"33.8547\", \"-29.61\", \"6.428055\", \"26.3351\", \"47.14\", \"55.1694\", \"49.8153\", \"0.0\", \"-18.766947\", \"-13.2543\", \"4.210484\", \"3.2028\", \"17.570692\", \"35.9375\", \"7.1315\", \"21.0079\", \"-20.348404\", \"23.6345\", \"7.4256\", \"47.4116\", \"43.7333\", \"46.8625\", \"42.708678\", \"31.7917\", \"-18.665695\", \"-22.9576\", \"28.1667\", \"12.5211\", \"12.1784\", \"12.1696\", \"18.0425\", \"52.1326\", \"-21.2367\", \"-40.9006\", \"12.865416\", \"17.607789\", \"9.082\", \"41.6086\", \"60.472\", \"21.512583\", \"30.3753\", \"7.515\", \"8.538\", \"-6.314993\", \"-23.4425\", \"-9.19\", \"12.879721\", \"51.9194\", \"39.3999\", \"25.3548\", \"45.9432\", \"61.52401\", \"-1.9403\", \"17.357822\", \"13.9094\", \"12.9843\", \"-13.759\", \"43.9424\", \"0.1864\", \"23.885942\", \"14.4974\", \"44.0165\", \"-4.6796\", \"8.460555\", \"1.2833\", \"48.669\", \"46.1512\", \"-9.6457\", \"5.152149\", \"-30.5595\", \"6.877\", \"40.463667\", \"7.873054\", \"12.8628\", \"35.6491\", \"3.9193\", \"60.128161\", \"46.8182\", \"34.802075\", \"23.7\", \"38.861\", \"-6.369028\", \"15.870032\", \"-8.874217\", \"8.6195\", \"10.6918\", \"33.886917\", \"38.9637\", \"40.0\", \"1.373333\", \"48.3794\", \"23.424076\", \"18.2206\", \"32.3078\", \"18.4207\", \"19.3133\", \"49.3723\", \"-51.7963\", \"36.1408\", \"54.2361\", \"16.742498\", \"-7.9467\", \"21.694\", \"55.3781\", \"-32.5228\", \"41.377491\", \"-15.3767\", \"6.4238\", \"14.058324\", \"31.9522\", \"15.552727\", \"-13.133897\", \"-19.015438\"], \"lon\": [\"67.709953\", \"20.1683\", \"1.6596\", \"1.5218\", \"17.8739\", \"-61.7964\", \"-63.6167\", \"45.0382\", \"149.0124\", \"151.2093\", \"130.8456\", \"153.0251\", \"138.6007\", \"147.3272\", \"144.9631\", \"115.8605\", \"14.5501\", \"47.5769\", \"-78.035889\", \"50.55\", \"90.3563\", \"-59.5432\", \"27.9534\", \"4.469936\", \"-88.4976\", \"2.3158\", \"90.4336\", \"-63.5887\", \"17.6791\", \"24.6849\", \"-51.9253\", \"114.7277\", \"25.4858\", \"-1.5616\", \"95.956\", \"29.9189\", \"-23.0418\", \"104.9167\", \"11.5021\", \"-116.5765\", \"-127.6476\", \"0.0\", \"0.0\", \"-98.8139\", \"-66.4619\", \"-57.6604\", \"-124.8457\", \"-63.7443\", \"-83.1076\", \"-85.3232\", \"-63.4168\", \"-73.5491\", \"\", \"-106.4509\", \"-135.0\", \"20.9394\", \"18.7322\", \"-71.543\", \"117.2264\", \"116.4142\", \"107.874\", \"117.9874\", \"104.2861\", \"113.4244\", \"108.7881\", \"106.8748\", \"109.7453\", \"116.1306\", \"127.7615\", \"114.9042\", \"114.2\", \"112.2707\", \"111.7088\", \"113.9448\", \"119.455\", \"115.7221\", \"126.1923\", \"122.6085\", \"113.55\", \"106.1655\", \"95.9956\", \"108.8701\", \"118.1498\", \"121.4491\", \"112.2922\", \"102.7103\", \"117.323\", \"88.0924\", \"\", \"85.2401\", \"101.487\", \"120.0934\", \"-74.2973\", \"43.3333\", \"15.8277\", \"21.7587\", \"-83.7534\", \"-5.5471\", \"15.2\", \"-77.781167\", \"33.4299\", \"15.473\", \"-6.9118\", \"-42.6043\", \"9.5018\", \"0.0\", \"42.5903\", \"-61.371\", \"-70.1627\", \"-78.1834\", \"30.802498\", \"-88.8965\", \"10.2679\", \"39.7823\", \"25.0136\", \"31.4659\", \"40.4897\", \"178.065\", \"25.748151\", \"-53.1258\", \"149.4068\", \"-61.551\", \"-61.0242\", \"45.166244\", \"165.618042\", \"55.5364\", \"-62.8333\", \"-56.3159\", \"-63.0501\", \"-178.1165\", \"2.2137\", \"11.6094\", \"-15.3101\", \"43.3569\", \"10.451526\", \"-1.0232\", \"21.8243\", \"-61.679\", \"-90.2308\", \"-9.6966\", \"-15.1804\", \"-58.93018\", \"-72.2852\", \"12.4534\", \"-86.2419\", \"19.5033\", \"-19.0208\", \"78.96288\", \"113.9213\", \"53.688046\", \"43.679291\", \"-7.6921\", \"34.851612\", \"12.56738\", \"-77.2975\", \"138.252924\", \"36.51\", \"66.9237\", \"37.9062\", \"-168.734\", \"127.766922\", \"20.902977\", \"47.481766\", \"74.766098\", \"102.495496\", \"24.6032\", \"35.8623\", \"28.2336\", \"-9.429499\", \"17.228331\", \"9.55\", \"23.8813\", \"6.1296\", \"0.0\", \"46.869107\", \"34.3015\", \"101.975766\", \"73.2207\", \"-3.996166\", \"14.3754\", \"171.1845\", \"-10.9408\", \"57.552152\", \"-102.5528\", \"150.5508\", \"28.3699\", \"7.4167\", \"103.8467\", \"19.37439\", \"-7.0926\", \"35.529562\", \"18.4904\", \"84.25\", \"-69.9683\", \"-68.2385\", \"-68.99\", \"-63.0548\", \"5.2913\", \"-159.7777\", \"174.886\", \"-85.207229\", \"8.081666\", \"8.6753\", \"21.7453\", \"8.4689\", \"55.923255\", \"69.3451\", \"134.5825\", \"-80.7821\", \"143.95555\", \"-58.4438\", \"-75.0152\", \"121.774017\", \"19.1451\", \"-8.2245\", \"51.1839\", \"24.9668\", \"105.318756\", \"29.8739\", \"-62.782998\", \"-60.9789\", \"-61.2872\", \"-172.1046\", \"12.4578\", \"6.6131\", \"45.079162\", \"-14.4524\", \"21.0059\", \"55.492\", \"-11.779889\", \"103.8333\", \"19.699\", \"14.9955\", \"160.1562\", \"46.199616\", \"22.9375\", \"31.307\", \"-3.74922\", \"80.771797\", \"30.2176\", \"139.7737\", \"-56.0278\", \"18.643501\", \"8.2275\", \"38.996815\", \"121.0\", \"71.2761\", \"34.888822\", \"100.992541\", \"125.727539\", \"0.8248\", \"-61.2225\", \"9.537499\", \"35.2433\", \"-100.0\", \"32.290275\", \"31.1656\", \"53.847818\", \"-63.0686\", \"-64.7505\", \"-64.64\", \"-81.2546\", \"-2.3644\", \"-59.5236\", \"-5.3536\", \"-4.5481\", \"-62.187366\", \"-14.3559\", \"-71.7979\", \"-3.436\", \"-55.7658\", \"64.585262\", \"166.9592\", \"-66.5897\", \"108.277199\", \"35.2332\", \"48.516388\", \"27.849332\", \"29.154857\"], \"name\": \"deaths\", \"text\": [\"Afghanistan\", \"Albania\", \"Algeria\", \"Andorra\", \"Angola\", \"Antigua and Barbuda\", \"Argentina\", \"Armenia\", \"Australia\", \"Australia\", \"Australia\", \"Australia\", \"Australia\", \"Australia\", \"Australia\", \"Australia\", \"Austria\", \"Azerbaijan\", \"Bahamas\", \"Bahrain\", \"Bangladesh\", \"Barbados\", \"Belarus\", \"Belgium\", \"Belize\", \"Benin\", \"Bhutan\", \"Bolivia\", \"Bosnia and Herzegovina\", \"Botswana\", \"Brazil\", \"Brunei\", \"Bulgaria\", \"Burkina Faso\", \"Burma\", \"Burundi\", \"Cabo Verde\", \"Cambodia\", \"Cameroon\", \"Canada\", \"Canada\", \"Canada\", \"Canada\", \"Canada\", \"Canada\", \"Canada\", \"Canada\", \"Canada\", \"Canada\", \"Canada\", \"Canada\", \"Canada\", \"Canada\", \"Canada\", \"Canada\", \"Central African Republic\", \"Chad\", \"Chile\", \"China\", \"China\", \"China\", \"China\", \"China\", \"China\", \"China\", \"China\", \"China\", \"China\", \"China\", \"China\", \"China\", \"China\", \"China\", \"China\", \"China\", \"China\", \"China\", \"China\", \"China\", \"China\", \"China\", \"China\", \"China\", \"China\", \"China\", \"China\", \"China\", \"China\", \"China\", \"China\", \"China\", \"China\", \"Colombia\", \"Comoros\", \"Congo (Brazzaville)\", \"Congo (Kinshasa)\", \"Costa Rica\", \"Cote d'Ivoire\", \"Croatia\", \"Cuba\", \"Cyprus\", \"Czechia\", \"Denmark\", \"Denmark\", \"Denmark\", \"Diamond Princess\", \"Djibouti\", \"Dominica\", \"Dominican Republic\", \"Ecuador\", \"Egypt\", \"El Salvador\", \"Equatorial Guinea\", \"Eritrea\", \"Estonia\", \"Eswatini\", \"Ethiopia\", \"Fiji\", \"Finland\", \"France\", \"France\", \"France\", \"France\", \"France\", \"France\", \"France\", \"France\", \"France\", \"France\", \"France\", \"France\", \"Gabon\", \"Gambia\", \"Georgia\", \"Germany\", \"Ghana\", \"Greece\", \"Grenada\", \"Guatemala\", \"Guinea\", \"Guinea-Bissau\", \"Guyana\", \"Haiti\", \"Holy See\", \"Honduras\", \"Hungary\", \"Iceland\", \"India\", \"Indonesia\", \"Iran\", \"Iraq\", \"Ireland\", \"Israel\", \"Italy\", \"Jamaica\", \"Japan\", \"Jordan\", \"Kazakhstan\", \"Kenya\", \"Kiribati\", \"Korea, South\", \"Kosovo\", \"Kuwait\", \"Kyrgyzstan\", \"Laos\", \"Latvia\", \"Lebanon\", \"Lesotho\", \"Liberia\", \"Libya\", \"Liechtenstein\", \"Lithuania\", \"Luxembourg\", \"MS Zaandam\", \"Madagascar\", \"Malawi\", \"Malaysia\", \"Maldives\", \"Mali\", \"Malta\", \"Marshall Islands\", \"Mauritania\", \"Mauritius\", \"Mexico\", \"Micronesia\", \"Moldova\", \"Monaco\", \"Mongolia\", \"Montenegro\", \"Morocco\", \"Mozambique\", \"Namibia\", \"Nepal\", \"Netherlands\", \"Netherlands\", \"Netherlands\", \"Netherlands\", \"Netherlands\", \"New Zealand\", \"New Zealand\", \"Nicaragua\", \"Niger\", \"Nigeria\", \"North Macedonia\", \"Norway\", \"Oman\", \"Pakistan\", \"Palau\", \"Panama\", \"Papua New Guinea\", \"Paraguay\", \"Peru\", \"Philippines\", \"Poland\", \"Portugal\", \"Qatar\", \"Romania\", \"Russia\", \"Rwanda\", \"Saint Kitts and Nevis\", \"Saint Lucia\", \"Saint Vincent and the Grenadines\", \"Samoa\", \"San Marino\", \"Sao Tome and Principe\", \"Saudi Arabia\", \"Senegal\", \"Serbia\", \"Seychelles\", \"Sierra Leone\", \"Singapore\", \"Slovakia\", \"Slovenia\", \"Solomon Islands\", \"Somalia\", \"South Africa\", \"South Sudan\", \"Spain\", \"Sri Lanka\", \"Sudan\", \"Summer Olympics 2020\", \"Suriname\", \"Sweden\", \"Switzerland\", \"Syria\", \"Taiwan*\", \"Tajikistan\", \"Tanzania\", \"Thailand\", \"Timor-Leste\", \"Togo\", \"Trinidad and Tobago\", \"Tunisia\", \"Turkey\", \"US\", \"Uganda\", \"Ukraine\", \"United Arab Emirates\", \"United Kingdom\", \"United Kingdom\", \"United Kingdom\", \"United Kingdom\", \"United Kingdom\", \"United Kingdom\", \"United Kingdom\", \"United Kingdom\", \"United Kingdom\", \"United Kingdom\", \"United Kingdom\", \"United Kingdom\", \"Uruguay\", \"Uzbekistan\", \"Vanuatu\", \"Venezuela\", \"Vietnam\", \"West Bank and Gaza\", \"Yemen\", \"Zambia\", \"Zimbabwe\"], \"type\": \"scattermapbox\"}, {\"customdata\": [[152960, 7101, 0], [144847, 2492, 0], [195162, 5209, 0], [15025, 130, 0], [47168, 1201, 0], [1651, 43, 0], [5173531, 111383, 0], [241336, 4823, 0], [386, 3, 0], [25857, 147, 0], [201, 0, 0], [1979, 7, 0], [871, 4, 0], [235, 13, 0], [21996, 820, 0], [1086, 9, 0], [685956, 10781, 0], [417996, 5553, 0], [17940, 354, 0], [272341, 1388, 0], [1493537, 26015, 0], [4931, 49, 0], [479306, 3757, 0], [1177909, 25360, 0], [16012, 356, 0], [13366, 128, 0], [2594, 3, 0], [490056, 18411, 0], [212306, 9785, 0], [153793, 2213, 0], [20741815, 579308, 0], [2462, 7, 0], [451599, 18731, 0], [13762, 171, 0], [392300, 15183, 0], [11994, 38, 0], [35227, 309, 0], [92208, 1881, 0], [83425, 1350, 0], [248954, 2364, 0], [163560, 1807, 0], [0, 1, 0], [13, 0, 0], [58506, 1189, 0], [2721, 46, 0], [1469, 7, 0], [400, 1, 0], [5999, 94, 0], [657, 4, 0], [571789, 9550, 0], [230, 0, 0], [388413, 11285, 0], [13, 0, 0], [53875, 598, 0], [684, 8, 0], [11270, 99, 0], [4991, 174, 0], [1637829, 36885, 0], [1008, 6, 0], [1115, 9, 0], [603, 6, 0], [786, 1, 0], [199, 2, 0], [3055, 8, 0], [289, 2, 0], [147, 2, 0], [190, 6, 0], [1317, 7, 0], [1615, 13, 0], [1528, 22, 0], [12107, 212, 0], [68290, 4512, 0], [1181, 4, 0], [412, 1, 0], [1589, 0, 0], [937, 1, 0], [574, 3, 0], [446, 2, 0], [63, 0, 0], [77, 0, 0], [18, 0, 0], [669, 3, 0], [924, 7, 0], [2476, 7, 0], [259, 0, 0], [1188, 3, 0], [472, 3, 0], [1, 0, 0], [0, 0, 0], [980, 3, 0], [1067, 2, 0], [1430, 1, 0], [4905258, 124811, 0], [4062, 147, 0], [13533, 183, 0], [54508, 1057, 0], [455784, 5431, 0], [55108, 430, 0], [373191, 8325, 0], [640438, 5144, 0], [113277, 499, 0], [1678862, 30402, 0], [1000, 2, 0], [333, 0, 0], [344088, 2580, 0], [712, 13, 0], [11741, 157, 0], [1638, 4, 0], [349859, 4007, 0], [501140, 32232, 0], [287899, 16721, 0], [94060, 2898, 0], [9326, 124, 0], [6640, 37, 0], [141344, 1289, 0], [42828, 1081, 0], [306117, 4644, 0], [46027, 479, 0], [126093, 1024, 0], [34166, 215, 0], [40178, 385, 0], [37955, 427, 0], [35953, 411, 0], [19739, 175, 0], [136, 0, 0], [48683, 332, 0], [1520, 2, 0], [30, 0, 0], [3273, 42, 0], [445, 7, 0], [6605068, 112510, 0], [25819, 165, 0], [9626, 314, 0], [543118, 7251, 0], [3940212, 92146, 0], [117636, 1008, 0], [581315, 13581, 0], [357, 1, 0], [465059, 11858, 0], [29209, 326, 0], [5766, 117, 0], [25323, 611, 0], [20833, 584, 0], [27, 0, 0], [335398, 8832, 0], [811706, 30057, 0], [10658, 33, 0], [32737939, 438210, 0], [4073831, 131923, 0], [4926964, 106482, 0], [1874435, 20699, 0], [349773, 5092, 0], [1051609, 6989, 0], [4530246, 129093, 0], [66663, 1504, 0], [1460222, 15969, 0], [795161, 10383, 0], [854842, 12655, 0], [234952, 4710, 0], [2, 0, 0], [250051, 2284, 0], [142671, 2457, 0], [409552, 2417, 0], [175437, 2518, 0], [14641, 12, 0], [142319, 2573, 0], [600451, 8044, 0], [14395, 403, 0], [5538, 245, 0], [305793, 4184, 0], [3263, 59, 0], [297777, 4539, 0], [75517, 830, 0], [9, 2, 0], [42862, 955, 0], [60345, 2161, 0], [1706089, 16087, 0], [80791, 226, 0], [14857, 539, 0], [36089, 440, 0], [4, 0, 0], [33309, 705, 0], [8667, 27, 0], [3335700, 258165, 0], [1, 0, 0], [266988, 6394, 0], [3183, 33, 0], [211080, 931, 0], [114364, 1716, 0], [853373, 12437, 0], [145863, 1851, 0], [124716, 3372, 0], [759222, 10714, 0], [14465, 137, 0], [1787, 17, 0], [15248, 143, 0], [3641, 49, 0], [1936572, 17996, 0], [1, 0, 0], [3519, 26, 0], [11167, 199, 0], [5839, 198, 0], [191345, 2454, 0], [175330, 5869, 0], [157040, 814, 0], [302132, 4057, 0], [1156281, 25670, 0], [2, 0, 0], [456666, 7046, 0], [17838, 192, 0], [458334, 15723, 0], [2147285, 198115, 0], [1954023, 33109, 0], [2888231, 75340, 0], [1034947, 17721, 0], [232366, 602, 0], [1096753, 34528, 0], [6785465, 178457, 0], [86613, 1079, 0], [1053, 3, 0], [8111, 103, 0], [2331, 12, 0], [3, 0, 0], [5261, 90, 0], [2590, 37, 0], [543318, 8512, 0], [72709, 1749, 0], [757617, 7266, 0], [19777, 104, 0], [6363, 121, 0], [67171, 55, 0], [394742, 12548, 0], [266514, 4448, 0], [20, 0, 0], [17302, 963, 0], [2764931, 81595, 0], [11403, 120, 0], [4831809, 84000, 0], [426169, 8775, 0], [37699, 2831, 0], [777, 0, 0], [28840, 715, 0], [1123413, 14685, 0], [770765, 10965, 0], [27654, 2003, 0], [15983, 834, 0], [16778, 124, 0], [1367, 50, 0], [1174091, 11143, 0], [16402, 62, 0], [21181, 180, 0], [44481, 1278, 0], [660587, 23369, 0], [6329519, 55958, 0], [38796746, 637531, 0], [119732, 2991, 0], [2381553, 56900, 0], [716381, 2038, 0], [201, 0, 0], [2844, 33, 0], [2568, 37, 0], [669, 2, 0], [10486, 95, 0], [66, 0, 0], [5338, 97, 0], [6629, 38, 0], [26, 1, 0], [4, 0, 0], [2650, 20, 0], [6731423, 132437, 0], [384692, 6029, 0], [154844, 1070, 0], [4, 1, 0], [333125, 3998, 0], [435265, 10749, 0], [337405, 3672, 0], [7784, 1461, 0], [206051, 3596, 0], [124437, 4401, 0]], \"hovertemplate\": \"<b>%{text}</b><br>Recovered: %{customdata[2]}<br><extra></extra>\", \"lat\": [\"33.93911\", \"41.1533\", \"28.0339\", \"42.5063\", \"-11.2027\", \"17.0608\", \"-38.4161\", \"40.0691\", \"-35.4735\", \"-33.8688\", \"-12.4634\", \"-27.4698\", \"-34.9285\", \"-42.8821\", \"-37.8136\", \"-31.9505\", \"47.5162\", \"40.1431\", \"25.025885\", \"26.0275\", \"23.685\", \"13.1939\", \"53.7098\", \"50.8333\", \"17.1899\", \"9.3077\", \"27.5142\", \"-16.2902\", \"43.9159\", \"-22.3285\", \"-14.235\", \"4.5353\", \"42.7339\", \"12.2383\", \"21.9162\", \"-3.3731\", \"16.5388\", \"11.55\", \"3.848\", \"53.9333\", \"53.7267\", \"0.0\", \"0.0\", \"53.7609\", \"46.5653\", \"53.1355\", \"64.8255\", \"44.682\", \"70.2998\", \"51.2538\", \"46.5107\", \"52.9399\", \"\", \"52.9399\", \"64.2823\", \"6.6111\", \"15.4542\", \"-35.6751\", \"31.8257\", \"40.1824\", \"30.0572\", \"26.0789\", \"35.7518\", \"23.3417\", \"23.8298\", \"26.8154\", \"19.1959\", \"39.549\", \"47.862\", \"37.8957\", \"22.3\", \"30.9756\", \"27.6104\", \"44.0935\", \"32.9711\", \"27.614\", \"43.6661\", \"41.2956\", \"22.1667\", \"37.2692\", \"35.7452\", \"35.1917\", \"36.3427\", \"31.202\", \"37.5777\", \"30.6171\", \"39.3054\", \"31.6927\", \"\", \"41.1129\", \"24.974\", \"29.1832\", \"4.5709\", \"-11.6455\", \"-0.228\", \"-4.0383\", \"9.7489\", \"7.54\", \"45.1\", \"21.521757\", \"35.1264\", \"49.8175\", \"61.8926\", \"71.7069\", \"56.2639\", \"0.0\", \"11.8251\", \"15.415\", \"18.7357\", \"-1.8312\", \"26.820553\", \"13.7942\", \"1.6508\", \"15.1794\", \"58.5953\", \"-26.5225\", \"9.145\", \"-17.7134\", \"61.92411\", \"3.9339\", \"-17.6797\", \"16.265\", \"14.6415\", \"-12.8275\", \"-20.904305\", \"-21.1151\", \"17.9\", \"46.8852\", \"18.0708\", \"-14.2938\", \"46.2276\", \"-0.8037\", \"13.4432\", \"42.3154\", \"51.165691\", \"7.9465\", \"39.0742\", \"12.1165\", \"15.7835\", \"9.9456\", \"11.8037\", \"4.860416\", \"18.9712\", \"41.9029\", \"15.2\", \"47.1625\", \"64.9631\", \"20.593684\", \"-0.7893\", \"32.427908\", \"33.223191\", \"53.1424\", \"31.046051\", \"41.87194\", \"18.1096\", \"36.204824\", \"31.24\", \"48.0196\", \"-0.0236\", \"-3.3704\", \"35.907757\", \"42.602636\", \"29.31166\", \"41.20438\", \"19.85627\", \"56.8796\", \"33.8547\", \"-29.61\", \"6.428055\", \"26.3351\", \"47.14\", \"55.1694\", \"49.8153\", \"0.0\", \"-18.766947\", \"-13.2543\", \"4.210484\", \"3.2028\", \"17.570692\", \"35.9375\", \"7.1315\", \"21.0079\", \"-20.348404\", \"23.6345\", \"7.4256\", \"47.4116\", \"43.7333\", \"46.8625\", \"42.708678\", \"31.7917\", \"-18.665695\", \"-22.9576\", \"28.1667\", \"12.5211\", \"12.1784\", \"12.1696\", \"18.0425\", \"52.1326\", \"-21.2367\", \"-40.9006\", \"12.865416\", \"17.607789\", \"9.082\", \"41.6086\", \"60.472\", \"21.512583\", \"30.3753\", \"7.515\", \"8.538\", \"-6.314993\", \"-23.4425\", \"-9.19\", \"12.879721\", \"51.9194\", \"39.3999\", \"25.3548\", \"45.9432\", \"61.52401\", \"-1.9403\", \"17.357822\", \"13.9094\", \"12.9843\", \"-13.759\", \"43.9424\", \"0.1864\", \"23.885942\", \"14.4974\", \"44.0165\", \"-4.6796\", \"8.460555\", \"1.2833\", \"48.669\", \"46.1512\", \"-9.6457\", \"5.152149\", \"-30.5595\", \"6.877\", \"40.463667\", \"7.873054\", \"12.8628\", \"35.6491\", \"3.9193\", \"60.128161\", \"46.8182\", \"34.802075\", \"23.7\", \"38.861\", \"-6.369028\", \"15.870032\", \"-8.874217\", \"8.6195\", \"10.6918\", \"33.886917\", \"38.9637\", \"40.0\", \"1.373333\", \"48.3794\", \"23.424076\", \"18.2206\", \"32.3078\", \"18.4207\", \"19.3133\", \"49.3723\", \"-51.7963\", \"36.1408\", \"54.2361\", \"16.742498\", \"-7.9467\", \"21.694\", \"55.3781\", \"-32.5228\", \"41.377491\", \"-15.3767\", \"6.4238\", \"14.058324\", \"31.9522\", \"15.552727\", \"-13.133897\", \"-19.015438\"], \"lon\": [\"67.709953\", \"20.1683\", \"1.6596\", \"1.5218\", \"17.8739\", \"-61.7964\", \"-63.6167\", \"45.0382\", \"149.0124\", \"151.2093\", \"130.8456\", \"153.0251\", \"138.6007\", \"147.3272\", \"144.9631\", \"115.8605\", \"14.5501\", \"47.5769\", \"-78.035889\", \"50.55\", \"90.3563\", \"-59.5432\", \"27.9534\", \"4.469936\", \"-88.4976\", \"2.3158\", \"90.4336\", \"-63.5887\", \"17.6791\", \"24.6849\", \"-51.9253\", \"114.7277\", \"25.4858\", \"-1.5616\", \"95.956\", \"29.9189\", \"-23.0418\", \"104.9167\", \"11.5021\", \"-116.5765\", \"-127.6476\", \"0.0\", \"0.0\", \"-98.8139\", \"-66.4619\", \"-57.6604\", \"-124.8457\", \"-63.7443\", \"-83.1076\", \"-85.3232\", \"-63.4168\", \"-73.5491\", \"\", \"-106.4509\", \"-135.0\", \"20.9394\", \"18.7322\", \"-71.543\", \"117.2264\", \"116.4142\", \"107.874\", \"117.9874\", \"104.2861\", \"113.4244\", \"108.7881\", \"106.8748\", \"109.7453\", \"116.1306\", \"127.7615\", \"114.9042\", \"114.2\", \"112.2707\", \"111.7088\", \"113.9448\", \"119.455\", \"115.7221\", \"126.1923\", \"122.6085\", \"113.55\", \"106.1655\", \"95.9956\", \"108.8701\", \"118.1498\", \"121.4491\", \"112.2922\", \"102.7103\", \"117.323\", \"88.0924\", \"\", \"85.2401\", \"101.487\", \"120.0934\", \"-74.2973\", \"43.3333\", \"15.8277\", \"21.7587\", \"-83.7534\", \"-5.5471\", \"15.2\", \"-77.781167\", \"33.4299\", \"15.473\", \"-6.9118\", \"-42.6043\", \"9.5018\", \"0.0\", \"42.5903\", \"-61.371\", \"-70.1627\", \"-78.1834\", \"30.802498\", \"-88.8965\", \"10.2679\", \"39.7823\", \"25.0136\", \"31.4659\", \"40.4897\", \"178.065\", \"25.748151\", \"-53.1258\", \"149.4068\", \"-61.551\", \"-61.0242\", \"45.166244\", \"165.618042\", \"55.5364\", \"-62.8333\", \"-56.3159\", \"-63.0501\", \"-178.1165\", \"2.2137\", \"11.6094\", \"-15.3101\", \"43.3569\", \"10.451526\", \"-1.0232\", \"21.8243\", \"-61.679\", \"-90.2308\", \"-9.6966\", \"-15.1804\", \"-58.93018\", \"-72.2852\", \"12.4534\", \"-86.2419\", \"19.5033\", \"-19.0208\", \"78.96288\", \"113.9213\", \"53.688046\", \"43.679291\", \"-7.6921\", \"34.851612\", \"12.56738\", \"-77.2975\", \"138.252924\", \"36.51\", \"66.9237\", \"37.9062\", \"-168.734\", \"127.766922\", \"20.902977\", \"47.481766\", \"74.766098\", \"102.495496\", \"24.6032\", \"35.8623\", \"28.2336\", \"-9.429499\", \"17.228331\", \"9.55\", \"23.8813\", \"6.1296\", \"0.0\", \"46.869107\", \"34.3015\", \"101.975766\", \"73.2207\", \"-3.996166\", \"14.3754\", \"171.1845\", \"-10.9408\", \"57.552152\", \"-102.5528\", \"150.5508\", \"28.3699\", \"7.4167\", \"103.8467\", \"19.37439\", \"-7.0926\", \"35.529562\", \"18.4904\", \"84.25\", \"-69.9683\", \"-68.2385\", \"-68.99\", \"-63.0548\", \"5.2913\", \"-159.7777\", \"174.886\", \"-85.207229\", \"8.081666\", \"8.6753\", \"21.7453\", \"8.4689\", \"55.923255\", \"69.3451\", \"134.5825\", \"-80.7821\", \"143.95555\", \"-58.4438\", \"-75.0152\", \"121.774017\", \"19.1451\", \"-8.2245\", \"51.1839\", \"24.9668\", \"105.318756\", \"29.8739\", \"-62.782998\", \"-60.9789\", \"-61.2872\", \"-172.1046\", \"12.4578\", \"6.6131\", \"45.079162\", \"-14.4524\", \"21.0059\", \"55.492\", \"-11.779889\", \"103.8333\", \"19.699\", \"14.9955\", \"160.1562\", \"46.199616\", \"22.9375\", \"31.307\", \"-3.74922\", \"80.771797\", \"30.2176\", \"139.7737\", \"-56.0278\", \"18.643501\", \"8.2275\", \"38.996815\", \"121.0\", \"71.2761\", \"34.888822\", \"100.992541\", \"125.727539\", \"0.8248\", \"-61.2225\", \"9.537499\", \"35.2433\", \"-100.0\", \"32.290275\", \"31.1656\", \"53.847818\", \"-63.0686\", \"-64.7505\", \"-64.64\", \"-81.2546\", \"-2.3644\", \"-59.5236\", \"-5.3536\", \"-4.5481\", \"-62.187366\", \"-14.3559\", \"-71.7979\", \"-3.436\", \"-55.7658\", \"64.585262\", \"166.9592\", \"-66.5897\", \"108.277199\", \"35.2332\", \"48.516388\", \"27.849332\", \"29.154857\"], \"name\": \"recovered\", \"text\": [\"Afghanistan\", \"Albania\", \"Algeria\", \"Andorra\", \"Angola\", \"Antigua and Barbuda\", \"Argentina\", \"Armenia\", \"Australia\", \"Australia\", \"Australia\", \"Australia\", \"Australia\", \"Australia\", \"Australia\", \"Australia\", \"Austria\", \"Azerbaijan\", \"Bahamas\", \"Bahrain\", \"Bangladesh\", \"Barbados\", \"Belarus\", \"Belgium\", \"Belize\", \"Benin\", \"Bhutan\", \"Bolivia\", \"Bosnia and Herzegovina\", \"Botswana\", \"Brazil\", \"Brunei\", \"Bulgaria\", \"Burkina Faso\", \"Burma\", \"Burundi\", \"Cabo Verde\", \"Cambodia\", \"Cameroon\", \"Canada\", \"Canada\", \"Canada\", \"Canada\", \"Canada\", \"Canada\", \"Canada\", \"Canada\", \"Canada\", \"Canada\", \"Canada\", \"Canada\", \"Canada\", \"Canada\", \"Canada\", \"Canada\", \"Central African Republic\", \"Chad\", \"Chile\", \"China\", \"China\", \"China\", \"China\", \"China\", \"China\", \"China\", \"China\", \"China\", \"China\", \"China\", \"China\", \"China\", \"China\", \"China\", \"China\", \"China\", \"China\", \"China\", \"China\", \"China\", \"China\", \"China\", \"China\", \"China\", \"China\", \"China\", \"China\", \"China\", \"China\", \"China\", \"China\", \"China\", \"China\", \"Colombia\", \"Comoros\", \"Congo (Brazzaville)\", \"Congo (Kinshasa)\", \"Costa Rica\", \"Cote d'Ivoire\", \"Croatia\", \"Cuba\", \"Cyprus\", \"Czechia\", \"Denmark\", \"Denmark\", \"Denmark\", \"Diamond Princess\", \"Djibouti\", \"Dominica\", \"Dominican Republic\", \"Ecuador\", \"Egypt\", \"El Salvador\", \"Equatorial Guinea\", \"Eritrea\", \"Estonia\", \"Eswatini\", \"Ethiopia\", \"Fiji\", \"Finland\", \"France\", \"France\", \"France\", \"France\", \"France\", \"France\", \"France\", \"France\", \"France\", \"France\", \"France\", \"France\", \"Gabon\", \"Gambia\", \"Georgia\", \"Germany\", \"Ghana\", \"Greece\", \"Grenada\", \"Guatemala\", \"Guinea\", \"Guinea-Bissau\", \"Guyana\", \"Haiti\", \"Holy See\", \"Honduras\", \"Hungary\", \"Iceland\", \"India\", \"Indonesia\", \"Iran\", \"Iraq\", \"Ireland\", \"Israel\", \"Italy\", \"Jamaica\", \"Japan\", \"Jordan\", \"Kazakhstan\", \"Kenya\", \"Kiribati\", \"Korea, South\", \"Kosovo\", \"Kuwait\", \"Kyrgyzstan\", \"Laos\", \"Latvia\", \"Lebanon\", \"Lesotho\", \"Liberia\", \"Libya\", \"Liechtenstein\", \"Lithuania\", \"Luxembourg\", \"MS Zaandam\", \"Madagascar\", \"Malawi\", \"Malaysia\", \"Maldives\", \"Mali\", \"Malta\", \"Marshall Islands\", \"Mauritania\", \"Mauritius\", \"Mexico\", \"Micronesia\", \"Moldova\", \"Monaco\", \"Mongolia\", \"Montenegro\", \"Morocco\", \"Mozambique\", \"Namibia\", \"Nepal\", \"Netherlands\", \"Netherlands\", \"Netherlands\", \"Netherlands\", \"Netherlands\", \"New Zealand\", \"New Zealand\", \"Nicaragua\", \"Niger\", \"Nigeria\", \"North Macedonia\", \"Norway\", \"Oman\", \"Pakistan\", \"Palau\", \"Panama\", \"Papua New Guinea\", \"Paraguay\", \"Peru\", \"Philippines\", \"Poland\", \"Portugal\", \"Qatar\", \"Romania\", \"Russia\", \"Rwanda\", \"Saint Kitts and Nevis\", \"Saint Lucia\", \"Saint Vincent and the Grenadines\", \"Samoa\", \"San Marino\", \"Sao Tome and Principe\", \"Saudi Arabia\", \"Senegal\", \"Serbia\", \"Seychelles\", \"Sierra Leone\", \"Singapore\", \"Slovakia\", \"Slovenia\", \"Solomon Islands\", \"Somalia\", \"South Africa\", \"South Sudan\", \"Spain\", \"Sri Lanka\", \"Sudan\", \"Summer Olympics 2020\", \"Suriname\", \"Sweden\", \"Switzerland\", \"Syria\", \"Taiwan*\", \"Tajikistan\", \"Tanzania\", \"Thailand\", \"Timor-Leste\", \"Togo\", \"Trinidad and Tobago\", \"Tunisia\", \"Turkey\", \"US\", \"Uganda\", \"Ukraine\", \"United Arab Emirates\", \"United Kingdom\", \"United Kingdom\", \"United Kingdom\", \"United Kingdom\", \"United Kingdom\", \"United Kingdom\", \"United Kingdom\", \"United Kingdom\", \"United Kingdom\", \"United Kingdom\", \"United Kingdom\", \"United Kingdom\", \"Uruguay\", \"Uzbekistan\", \"Vanuatu\", \"Venezuela\", \"Vietnam\", \"West Bank and Gaza\", \"Yemen\", \"Zambia\", \"Zimbabwe\"], \"type\": \"scattermapbox\"}],\n",
              "                        {\"autosize\": true, \"mapbox\": {\"layers\": [{\"below\": \"traces\", \"source\": [\"https://basemap.nationalmap.gov/arcgis/rest/services/USGSImageryOnly/MapServer/tile/{z}/{y}/{x}\"], \"sourcetype\": \"raster\"}], \"style\": \"white-bg\"}, \"template\": {\"data\": {\"bar\": [{\"error_x\": {\"color\": \"#2a3f5f\"}, \"error_y\": {\"color\": \"#2a3f5f\"}, \"marker\": {\"line\": {\"color\": \"#E5ECF6\", \"width\": 0.5}}, \"type\": \"bar\"}], \"barpolar\": [{\"marker\": {\"line\": {\"color\": \"#E5ECF6\", \"width\": 0.5}}, \"type\": \"barpolar\"}], \"carpet\": [{\"aaxis\": {\"endlinecolor\": \"#2a3f5f\", \"gridcolor\": \"white\", \"linecolor\": \"white\", \"minorgridcolor\": \"white\", \"startlinecolor\": \"#2a3f5f\"}, \"baxis\": {\"endlinecolor\": \"#2a3f5f\", \"gridcolor\": \"white\", \"linecolor\": \"white\", \"minorgridcolor\": \"white\", \"startlinecolor\": \"#2a3f5f\"}, \"type\": \"carpet\"}], \"choropleth\": [{\"colorbar\": {\"outlinewidth\": 0, \"ticks\": \"\"}, \"type\": \"choropleth\"}], \"contour\": [{\"colorbar\": {\"outlinewidth\": 0, \"ticks\": \"\"}, \"colorscale\": [[0.0, \"#0d0887\"], [0.1111111111111111, \"#46039f\"], [0.2222222222222222, \"#7201a8\"], [0.3333333333333333, \"#9c179e\"], [0.4444444444444444, \"#bd3786\"], [0.5555555555555556, \"#d8576b\"], [0.6666666666666666, \"#ed7953\"], [0.7777777777777778, \"#fb9f3a\"], [0.8888888888888888, \"#fdca26\"], [1.0, \"#f0f921\"]], \"type\": \"contour\"}], \"contourcarpet\": [{\"colorbar\": {\"outlinewidth\": 0, \"ticks\": \"\"}, \"type\": \"contourcarpet\"}], \"heatmap\": [{\"colorbar\": {\"outlinewidth\": 0, \"ticks\": \"\"}, \"colorscale\": [[0.0, \"#0d0887\"], [0.1111111111111111, \"#46039f\"], [0.2222222222222222, \"#7201a8\"], [0.3333333333333333, \"#9c179e\"], [0.4444444444444444, \"#bd3786\"], [0.5555555555555556, \"#d8576b\"], [0.6666666666666666, \"#ed7953\"], [0.7777777777777778, \"#fb9f3a\"], [0.8888888888888888, \"#fdca26\"], [1.0, \"#f0f921\"]], \"type\": \"heatmap\"}], \"heatmapgl\": [{\"colorbar\": {\"outlinewidth\": 0, \"ticks\": \"\"}, \"colorscale\": [[0.0, \"#0d0887\"], [0.1111111111111111, \"#46039f\"], [0.2222222222222222, \"#7201a8\"], [0.3333333333333333, \"#9c179e\"], [0.4444444444444444, \"#bd3786\"], [0.5555555555555556, \"#d8576b\"], [0.6666666666666666, \"#ed7953\"], [0.7777777777777778, \"#fb9f3a\"], [0.8888888888888888, \"#fdca26\"], [1.0, \"#f0f921\"]], \"type\": \"heatmapgl\"}], \"histogram\": [{\"marker\": {\"colorbar\": {\"outlinewidth\": 0, \"ticks\": \"\"}}, \"type\": \"histogram\"}], \"histogram2d\": [{\"colorbar\": {\"outlinewidth\": 0, \"ticks\": \"\"}, \"colorscale\": [[0.0, \"#0d0887\"], [0.1111111111111111, \"#46039f\"], [0.2222222222222222, \"#7201a8\"], [0.3333333333333333, \"#9c179e\"], [0.4444444444444444, \"#bd3786\"], [0.5555555555555556, \"#d8576b\"], [0.6666666666666666, \"#ed7953\"], [0.7777777777777778, \"#fb9f3a\"], [0.8888888888888888, \"#fdca26\"], [1.0, \"#f0f921\"]], \"type\": \"histogram2d\"}], \"histogram2dcontour\": [{\"colorbar\": {\"outlinewidth\": 0, \"ticks\": \"\"}, \"colorscale\": [[0.0, \"#0d0887\"], [0.1111111111111111, \"#46039f\"], [0.2222222222222222, \"#7201a8\"], [0.3333333333333333, \"#9c179e\"], [0.4444444444444444, \"#bd3786\"], [0.5555555555555556, \"#d8576b\"], [0.6666666666666666, \"#ed7953\"], [0.7777777777777778, \"#fb9f3a\"], [0.8888888888888888, \"#fdca26\"], [1.0, \"#f0f921\"]], \"type\": \"histogram2dcontour\"}], \"mesh3d\": [{\"colorbar\": {\"outlinewidth\": 0, \"ticks\": \"\"}, \"type\": \"mesh3d\"}], \"parcoords\": [{\"line\": {\"colorbar\": {\"outlinewidth\": 0, \"ticks\": \"\"}}, \"type\": \"parcoords\"}], \"pie\": [{\"automargin\": true, \"type\": \"pie\"}], \"scatter\": [{\"marker\": {\"colorbar\": {\"outlinewidth\": 0, \"ticks\": \"\"}}, \"type\": \"scatter\"}], \"scatter3d\": [{\"line\": {\"colorbar\": {\"outlinewidth\": 0, \"ticks\": \"\"}}, \"marker\": {\"colorbar\": {\"outlinewidth\": 0, \"ticks\": \"\"}}, \"type\": \"scatter3d\"}], \"scattercarpet\": [{\"marker\": {\"colorbar\": {\"outlinewidth\": 0, \"ticks\": \"\"}}, \"type\": \"scattercarpet\"}], \"scattergeo\": [{\"marker\": {\"colorbar\": {\"outlinewidth\": 0, \"ticks\": \"\"}}, \"type\": \"scattergeo\"}], \"scattergl\": [{\"marker\": {\"colorbar\": {\"outlinewidth\": 0, \"ticks\": \"\"}}, \"type\": \"scattergl\"}], \"scattermapbox\": [{\"marker\": {\"colorbar\": {\"outlinewidth\": 0, \"ticks\": \"\"}}, \"type\": \"scattermapbox\"}], \"scatterpolar\": [{\"marker\": {\"colorbar\": {\"outlinewidth\": 0, \"ticks\": \"\"}}, \"type\": \"scatterpolar\"}], \"scatterpolargl\": [{\"marker\": {\"colorbar\": {\"outlinewidth\": 0, \"ticks\": \"\"}}, \"type\": \"scatterpolargl\"}], \"scatterternary\": [{\"marker\": {\"colorbar\": {\"outlinewidth\": 0, \"ticks\": \"\"}}, \"type\": \"scatterternary\"}], \"surface\": [{\"colorbar\": {\"outlinewidth\": 0, \"ticks\": \"\"}, \"colorscale\": [[0.0, \"#0d0887\"], [0.1111111111111111, \"#46039f\"], [0.2222222222222222, \"#7201a8\"], [0.3333333333333333, \"#9c179e\"], [0.4444444444444444, \"#bd3786\"], [0.5555555555555556, \"#d8576b\"], [0.6666666666666666, \"#ed7953\"], [0.7777777777777778, \"#fb9f3a\"], [0.8888888888888888, \"#fdca26\"], [1.0, \"#f0f921\"]], \"type\": \"surface\"}], \"table\": [{\"cells\": {\"fill\": {\"color\": \"#EBF0F8\"}, \"line\": {\"color\": \"white\"}}, \"header\": {\"fill\": {\"color\": \"#C8D4E3\"}, \"line\": {\"color\": \"white\"}}, \"type\": \"table\"}]}, \"layout\": {\"annotationdefaults\": {\"arrowcolor\": \"#2a3f5f\", \"arrowhead\": 0, \"arrowwidth\": 1}, \"coloraxis\": {\"colorbar\": {\"outlinewidth\": 0, \"ticks\": \"\"}}, \"colorscale\": {\"diverging\": [[0, \"#8e0152\"], [0.1, \"#c51b7d\"], [0.2, \"#de77ae\"], [0.3, \"#f1b6da\"], [0.4, \"#fde0ef\"], [0.5, \"#f7f7f7\"], [0.6, \"#e6f5d0\"], [0.7, \"#b8e186\"], [0.8, \"#7fbc41\"], [0.9, \"#4d9221\"], [1, \"#276419\"]], \"sequential\": [[0.0, \"#0d0887\"], [0.1111111111111111, \"#46039f\"], [0.2222222222222222, \"#7201a8\"], [0.3333333333333333, \"#9c179e\"], [0.4444444444444444, \"#bd3786\"], [0.5555555555555556, \"#d8576b\"], [0.6666666666666666, \"#ed7953\"], [0.7777777777777778, \"#fb9f3a\"], [0.8888888888888888, \"#fdca26\"], [1.0, \"#f0f921\"]], \"sequentialminus\": [[0.0, \"#0d0887\"], [0.1111111111111111, \"#46039f\"], [0.2222222222222222, \"#7201a8\"], [0.3333333333333333, \"#9c179e\"], [0.4444444444444444, \"#bd3786\"], [0.5555555555555556, \"#d8576b\"], [0.6666666666666666, \"#ed7953\"], [0.7777777777777778, \"#fb9f3a\"], [0.8888888888888888, \"#fdca26\"], [1.0, \"#f0f921\"]]}, \"colorway\": [\"#636efa\", \"#EF553B\", \"#00cc96\", \"#ab63fa\", \"#FFA15A\", \"#19d3f3\", \"#FF6692\", \"#B6E880\", \"#FF97FF\", \"#FECB52\"], \"font\": {\"color\": \"#2a3f5f\"}, \"geo\": {\"bgcolor\": \"white\", \"lakecolor\": \"white\", \"landcolor\": \"#E5ECF6\", \"showlakes\": true, \"showland\": true, \"subunitcolor\": \"white\"}, \"hoverlabel\": {\"align\": \"left\"}, \"hovermode\": \"closest\", \"mapbox\": {\"style\": \"light\"}, \"paper_bgcolor\": \"white\", \"plot_bgcolor\": \"#E5ECF6\", \"polar\": {\"angularaxis\": {\"gridcolor\": \"white\", \"linecolor\": \"white\", \"ticks\": \"\"}, \"bgcolor\": \"#E5ECF6\", \"radialaxis\": {\"gridcolor\": \"white\", \"linecolor\": \"white\", \"ticks\": \"\"}}, \"scene\": {\"xaxis\": {\"backgroundcolor\": \"#E5ECF6\", \"gridcolor\": \"white\", \"gridwidth\": 2, \"linecolor\": \"white\", \"showbackground\": true, \"ticks\": \"\", \"zerolinecolor\": \"white\"}, \"yaxis\": {\"backgroundcolor\": \"#E5ECF6\", \"gridcolor\": \"white\", \"gridwidth\": 2, \"linecolor\": \"white\", \"showbackground\": true, \"ticks\": \"\", \"zerolinecolor\": \"white\"}, \"zaxis\": {\"backgroundcolor\": \"#E5ECF6\", \"gridcolor\": \"white\", \"gridwidth\": 2, \"linecolor\": \"white\", \"showbackground\": true, \"ticks\": \"\", \"zerolinecolor\": \"white\"}}, \"shapedefaults\": {\"line\": {\"color\": \"#2a3f5f\"}}, \"ternary\": {\"aaxis\": {\"gridcolor\": \"white\", \"linecolor\": \"white\", \"ticks\": \"\"}, \"baxis\": {\"gridcolor\": \"white\", \"linecolor\": \"white\", \"ticks\": \"\"}, \"bgcolor\": \"#E5ECF6\", \"caxis\": {\"gridcolor\": \"white\", \"linecolor\": \"white\", \"ticks\": \"\"}}, \"title\": {\"x\": 0.05}, \"xaxis\": {\"automargin\": true, \"gridcolor\": \"white\", \"linecolor\": \"white\", \"ticks\": \"\", \"title\": {\"standoff\": 15}, \"zerolinecolor\": \"white\", \"zerolinewidth\": 2}, \"yaxis\": {\"automargin\": true, \"gridcolor\": \"white\", \"linecolor\": \"white\", \"ticks\": \"\", \"title\": {\"standoff\": 15}, \"zerolinecolor\": \"white\", \"zerolinewidth\": 2}}}},\n",
              "                        {\"responsive\": true}\n",
              "                    ).then(function(){\n",
              "                            \n",
              "var gd = document.getElementById('efbf5883-b9f8-4eeb-bf3a-21dd3fefeb6f');\n",
              "var x = new MutationObserver(function (mutations, observer) {{\n",
              "        var display = window.getComputedStyle(gd).display;\n",
              "        if (!display || display === 'none') {{\n",
              "            console.log([gd, 'removed!']);\n",
              "            Plotly.purge(gd);\n",
              "            observer.disconnect();\n",
              "        }}\n",
              "}});\n",
              "\n",
              "// Listen for the removal of the full notebook cells\n",
              "var notebookContainer = gd.closest('#notebook-container');\n",
              "if (notebookContainer) {{\n",
              "    x.observe(notebookContainer, {childList: true});\n",
              "}}\n",
              "\n",
              "// Listen for the clearing of the current output cell\n",
              "var outputEl = gd.closest('.output');\n",
              "if (outputEl) {{\n",
              "    x.observe(outputEl, {childList: true});\n",
              "}}\n",
              "\n",
              "                        })\n",
              "                };\n",
              "                \n",
              "            </script>\n",
              "        </div>\n",
              "</body>\n",
              "</html>"
            ]
          },
          "metadata": {}
        }
      ]
    },
    {
      "cell_type": "code",
      "metadata": {
        "id": "t9_lx0faFBsD"
      },
      "source": [
        "import plotly.express as px\n",
        "import geopandas as gpd\n",
        "\n",
        "geo_df = gpd.read_file(gpd.datasets.get_path('naturalearth_cities'))\n",
        "\n",
        "px.set_mapbox_access_token(open(\".mapbox_token\").read())\n",
        "fig = px.scatter_mapbox(geo_df,\n",
        "                        lat=geo_df.geometry.y,\n",
        "                        lon=geo_df.geometry.x,\n",
        "                        hover_name=\"name\",\n",
        "                        zoom=1)\n",
        "fig.show()"
      ],
      "execution_count": null,
      "outputs": []
    },
    {
      "cell_type": "code",
      "metadata": {
        "id": "jskd7prfO6GB"
      },
      "source": [
        " #creating variables for maping using plotly\n",
        "#set up plotly\n",
        " \n",
        "\n",
        "map_confirmed = go.Scattermapbox(\n",
        "    name = 'confirmed',\n",
        "    lon = ['lon'],\n",
        "    lat = ['lat'],\n",
        "    text=['country'],\n",
        "    hovertemplate=\"<b>%{text}</b><br>\"+\n",
        "    \"confirmed:%{}<br>\"+\n",
        "    \"<extra></extra>\",\n",
        "        \n",
        "    )\n",
        "\n",
        "map_deaths = go.Scattermapbox(\n",
        "     name = 'deaths',\n",
        "    lon = ['lon'],\n",
        "    lat = ['lat'],\n",
        "    text= ['country'],\n",
        "    hovertemplate=\"<b>%{text}</b><br>\"+\n",
        "    \"Deaths: %{}<br>\"+\n",
        "    \"<extra></extra>\",\n",
        "   \n",
        "    \n",
        ")\n",
        "map_recovered =go.Scattermapbox( \n",
        "    name = 'recovered',\n",
        "    lon = ['lon'],\n",
        "    lat = ['lat'],\n",
        "    text= ['country'],\n",
        "    hovertemplate=\"<b>%{text}</b><br>\"+\n",
        "    \"Recovered: %{}<br>\"+\n",
        "    \"<extra></extra>\",\n",
        ")\n",
        "layout=go.Layout(\n",
        "    mapbox_style='white-bg',\n",
        "    autosize=True,\n",
        "    mapbox_layers =[\n",
        "        {\n",
        "            'below':'traces',\n",
        "            'sourcetype':'raster',\n",
        "            'source':[\"https://basemap.nationalmap.gov/arcgis/rest/services/USGSImageryOnly/MapServer/tile/{z}/{y}/{x}\"\n",
        "            ]\n",
        "        }           \n",
        "    ]\n",
        ")\n",
        "\n",
        "data = [map_confirmed,map_deaths,map_recovered]\n",
        "fig = go.Figure(data=data, layout=layout)\n",
        "fig.show()"
      ],
      "execution_count": null,
      "outputs": []
    },
    {
      "cell_type": "markdown",
      "metadata": {
        "id": "_Duq9UEBdO1A"
      },
      "source": [
        "# New Section"
      ]
    },
    {
      "cell_type": "code",
      "metadata": {
        "id": "TxYLSi1T46yP"
      },
      "source": [
        " print(type(r))\n",
        "\n",
        "#http://www.arcgis.com/home/webmap/viewer.html?url=https%3A%2F%2Fbasemap.nationalmap.gov%2Farcgis%2Frest%2Fservices%2FUSGSHydroCached%2FMapServer&source=sd"
      ],
      "execution_count": null,
      "outputs": []
    },
    {
      "cell_type": "code",
      "metadata": {
        "id": "SXyRGo54AKg8"
      },
      "source": [
        "https://basemap.nationalmap.gov/arcgis/rest/services/USGSImageryOnly/MapServer/tile/{z}/{y}/{x}"
      ],
      "execution_count": null,
      "outputs": []
    },
    {
      "cell_type": "code",
      "metadata": {
        "id": "rPeDviOBkfEH"
      },
      "source": [
        "!pip install ipyleaflet"
      ],
      "execution_count": null,
      "outputs": []
    },
    {
      "cell_type": "code",
      "metadata": {
        "id": "ujdIi9t6kgI9"
      },
      "source": [
        "!jupyter nbextension enable --py --sys-prefix ipyleaflet\n",
        "!pip install ipywidgets"
      ],
      "execution_count": null,
      "outputs": []
    },
    {
      "cell_type": "code",
      "metadata": {
        "id": "sUb_1CM6ktNf"
      },
      "source": [
        "!jupyter nbextension enable --py widgetsnbextension"
      ],
      "execution_count": null,
      "outputs": []
    },
    {
      "cell_type": "code",
      "metadata": {
        "id": "SY44043EmaBq"
      },
      "source": [
        "import pandas as pd\n",
        "df2 = pd.read_csv(\"https://coronavirus-tracker-api.herokuapp.com/v2/locations\", parse_dates=True, index_col=0)\n",
        "df2.head()"
      ],
      "execution_count": null,
      "outputs": []
    },
    {
      "cell_type": "code",
      "metadata": {
        "id": "uGZFeXM2QwmB"
      },
      "source": [
        "from ipyleaflet import Map"
      ],
      "execution_count": null,
      "outputs": []
    },
    {
      "cell_type": "code",
      "metadata": {
        "id": "PNKu3ObyQ0cQ"
      },
      "source": [
        "myMap=Map(center=[32.7766, -96.7969],zoom=10)"
      ],
      "execution_count": null,
      "outputs": []
    },
    {
      "cell_type": "code",
      "metadata": {
        "id": "y2Ag8YjBk2th"
      },
      "source": [
        "from ipyleaflet import (Map, DrawControl)\n",
        "myMap=Map(center=[32.7766, -96.7969],zoom=10)\n",
        "dc=DrawControl(circle={'shapeOptions': {'color':'#0000ff'}},rectangle={'shapeOptions': {'color':'#0000ff'}})\n",
        "myMap.add_control(dc)\n",
        "myMap"
      ],
      "execution_count": null,
      "outputs": []
    },
    {
      "cell_type": "code",
      "metadata": {
        "id": "X7fIEvxdlBNg"
      },
      "source": [
        "import plotly.figure_factory as ff\n",
        "import pandas as pd \n",
        "\n",
        "scope = ['California']\n",
        "df = pd.read_csv('https://raw.githubusercontent.com/plotly/datasets/master/minoritymajority.csv')\n",
        "\n",
        "#df name\n",
        "df_new = df[df['STNAME'].isin(scope)]\n",
        "\n",
        "# list values\n",
        "values = df_new['TOT_POP'].tolist()\n",
        "fips = df_new['FIPS'].tolist()\n",
        "\n",
        "#have to have the colorscale values at least = to the # of counties\n",
        "colorscale = [\"#2daa4b\", \"#80b1d3\", \"#fdb462\", \"#b3de69\", \"#fccde5\", \"#ff0000\", \"#cce6f4\",\n",
        "              \"#80b1d3\", \"#fdb462\", \"#b3de69\", \"#fccde5\", \"#9ba991\", \"#604d74\", \"#afcbc7\",\n",
        "              \"#80b1d3\", \"#fdb462\", \"#b3de69\", \"#fccde5\", \"#f0c800\", \"#387e75\", \"#fce7e7\",\n",
        "              \"#8dd3c7\", \"#ffffb3\", \"#bebada\", \"#fb8072\", \"#00778b\", \"#1d2d43\", \"#460606\",\n",
        "              \"#8dd3c7\", \"#ffffb3\", \"#bebada\", \"#fb8072\", \"#af3205\", \"#436e6f\", \"#f6a2a2\",\n",
        "              \"#d9d9d9\", \"#bc80bd\", \"#ccebc5\", \"#ffed6f\", \"#5a3791\", \"#1d2d43\", \"#0068a0\",\n",
        "              \"#d9d9d9\", \"#bc80bd\", \"#ccebc5\", \"#ffed6f\", \"#f6c4d2\", \"#675974\", \"#bb1212\",\n",
        "              \"#d9d9d9\", \"#bc80bd\", \"#ccebc5\", \"#ffed6f\", \"#ffd03e\", \"#4f5573\", \"#327169\",\n",
        "              \"#3697dd\", \"#8dd3c7\", \"#ffffb3\", \"#bebada\", \"#fb8072\", \"#ea1717\", \"#66b4de\",]\n",
        "\n",
        "fig = ff.create_choropleth(\n",
        "      fips=fips, values=values, scope=scope,\n",
        "      colorscale=colorscale,round_legend_values=True,\n",
        "      simplify_county=0, simplify_state=0,\n",
        "      county_outline={'color': 'rgb(15,15,55)', 'width': 0.5},\n",
        "      state_outline={'width': 0.5},\n",
        "      legend_title='Population Per County',\n",
        "      title= 'California'\n",
        "    \n",
        "    \n",
        "fig =(fig, filename='Choropleth Map Creation')\n",
        "fig = show()"
      ],
      "execution_count": null,
      "outputs": []
    },
    {
      "cell_type": "code",
      "metadata": {
        "id": "5EuAe4wD8iFE"
      },
      "source": [
        "data = [map_confirmed,map_deaths,map_recovered]\n",
        "fig = go.Figure(data=data, layout=layout)\n",
        "fig.show()\n"
      ],
      "execution_count": null,
      "outputs": []
    }
  ]
}